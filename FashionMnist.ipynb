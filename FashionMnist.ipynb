{
  "nbformat": 4,
  "nbformat_minor": 0,
  "metadata": {
    "colab": {
      "name": "FashionMnist.ipynb",
      "provenance": []
    },
    "kernelspec": {
      "name": "python3",
      "display_name": "Python 3"
    },
    "accelerator": "GPU"
  },
  "cells": [
    {
      "cell_type": "code",
      "metadata": {
        "id": "CVCN3iYitmni",
        "colab_type": "code",
        "colab": {
          "base_uri": "https://localhost:8080/",
          "height": 121
        },
        "outputId": "b81b712e-8cd5-4081-b43d-77bb9d3a35ef"
      },
      "source": [
        "from google.colab import drive\n",
        "drive.mount('/content/drive')"
      ],
      "execution_count": 1,
      "outputs": [
        {
          "output_type": "stream",
          "text": [
            "Go to this URL in a browser: https://accounts.google.com/o/oauth2/auth?client_id=947318989803-6bn6qk8qdgf4n4g3pfee6491hc0brc4i.apps.googleusercontent.com&redirect_uri=urn%3aietf%3awg%3aoauth%3a2.0%3aoob&scope=email%20https%3a%2f%2fwww.googleapis.com%2fauth%2fdocs.test%20https%3a%2f%2fwww.googleapis.com%2fauth%2fdrive%20https%3a%2f%2fwww.googleapis.com%2fauth%2fdrive.photos.readonly%20https%3a%2f%2fwww.googleapis.com%2fauth%2fpeopleapi.readonly&response_type=code\n",
            "\n",
            "Enter your authorization code:\n",
            "··········\n",
            "Mounted at /content/drive\n"
          ],
          "name": "stdout"
        }
      ]
    },
    {
      "cell_type": "code",
      "metadata": {
        "id": "W5KWZKXAu-Rf",
        "colab_type": "code",
        "colab": {}
      },
      "source": [
        "import numpy as np\n",
        "x_train_data = np.load('/content/drive/My Drive/HAX/128/X_train128.npy', allow_pickle=True)\n",
        "x_test_data = np.load('/content/drive/My Drive/HAX/128/X_test128.npy', allow_pickle=True)\n",
        "y_train_data = np.load('/content/drive/My Drive/HAX/128/y_train128.npy', allow_pickle=True)"
      ],
      "execution_count": 2,
      "outputs": []
    },
    {
      "cell_type": "code",
      "metadata": {
        "id": "S42U1KJPvmG0",
        "colab_type": "code",
        "colab": {
          "base_uri": "https://localhost:8080/",
          "height": 50
        },
        "outputId": "a9b5ed51-33b5-4cfa-f732-607e358c8479"
      },
      "source": [
        "from sklearn.model_selection import train_test_split\n",
        "x_train, x_val, y_train, y_val = train_test_split(x_train_data, y_train_data, test_size=0.1, random_state=2)\n",
        "print (x_train.shape)\n",
        "print (x_val.shape)"
      ],
      "execution_count": 3,
      "outputs": [
        {
          "output_type": "stream",
          "text": [
            "(54000, 128, 128, 1)\n",
            "(6000, 128, 128, 1)\n"
          ],
          "name": "stdout"
        }
      ]
    },
    {
      "cell_type": "code",
      "metadata": {
        "id": "GRlXs7Q1v6b0",
        "colab_type": "code",
        "colab": {}
      },
      "source": [
        "import tensorflow as tf\n",
        "from tensorflow import keras\n",
        "from tensorflow.keras import layers\n",
        "from tensorflow.keras.models import Sequential  # initial NN\n",
        "from tensorflow.keras.layers import Dense, Dropout # construct each layer\n",
        "from tensorflow.keras.layers import Conv2D # swipe across the image by 1\n",
        "from tensorflow.keras.layers import MaxPooling2D # swipe across by pool size\n",
        "from tensorflow.keras.layers import Flatten\n",
        "from tensorflow.keras.optimizers import Adam\n",
        "from tensorflow.keras.layers import ZeroPadding2D\n",
        "import pandas as pd"
      ],
      "execution_count": 4,
      "outputs": []
    },
    {
      "cell_type": "code",
      "metadata": {
        "id": "CyN4jgspxQ6v",
        "colab_type": "code",
        "colab": {}
      },
      "source": [
        "img_rows=128\n",
        "img_cols=128\n",
        "num_channel=1"
      ],
      "execution_count": 5,
      "outputs": []
    },
    {
      "cell_type": "code",
      "metadata": {
        "id": "YJ9uMIFawGnA",
        "colab_type": "code",
        "colab": {
          "base_uri": "https://localhost:8080/",
          "height": 924
        },
        "outputId": "6b0c6957-753a-4d42-b9f6-a43d2b592331"
      },
      "source": [
        "model=Sequential()\n",
        "\n",
        "\n",
        "model.add(Conv2D(32,kernel_size=(3,3),activation='relu',input_shape = (img_rows, img_cols, num_channel)))\n",
        "model.add(ZeroPadding2D(padding=(1,1)))\n",
        "\n",
        "model.add(Conv2D(32,kernel_size=(3,3),activation='relu'))\n",
        "model.add(Conv2D(32,kernel_size=(3,3),activation='relu'))\n",
        "model.add(MaxPooling2D(pool_size=(2,2)))\n",
        "\n",
        "model.add(Conv2D(64,kernel_size=(3,3),activation='relu'))\n",
        "model.add(Conv2D(64,kernel_size=(3,3),activation='relu'))\n",
        "model.add(MaxPooling2D(pool_size=(2,2)))\n",
        "\n",
        "model.add(Conv2D(128,kernel_size=(3,3),activation='relu'))\n",
        "model.add(Conv2D(128,kernel_size=(3,3),activation='relu'))\n",
        "model.add(MaxPooling2D(pool_size=(2,2)))\n",
        "\n",
        "model.add(Conv2D(256,kernel_size=(3,3),activation='relu'))\n",
        "model.add(Conv2D(256,kernel_size=(3,3),activation='relu'))\n",
        "model.add(MaxPooling2D(pool_size=(2,2)))\n",
        "\n",
        "model.add(Flatten())\n",
        "model.add(Dense(512,activation='relu'))\n",
        "model.add(Dropout(0.2))\n",
        "model.add(Dense(256,activation='relu'))\n",
        "model.add(Dropout(0.2))\n",
        "model.add(Dense(128,activation='relu'))\n",
        "model.add(Dropout(0.2))\n",
        "model.add(Dense(64,activation='relu'))\n",
        "#model.add(Dropout(0.2))\n",
        "model.add(Dense(10,activation='softmax'))\n",
        "\n",
        "model.compile(loss='categorical_crossentropy', optimizer='adam',metrics=['accuracy'])\n",
        "model.summary()"
      ],
      "execution_count": 13,
      "outputs": [
        {
          "output_type": "stream",
          "text": [
            "Model: \"sequential_3\"\n",
            "_________________________________________________________________\n",
            "Layer (type)                 Output Shape              Param #   \n",
            "=================================================================\n",
            "conv2d_23 (Conv2D)           (None, 126, 126, 32)      320       \n",
            "_________________________________________________________________\n",
            "zero_padding2d_1 (ZeroPaddin (None, 128, 128, 32)      0         \n",
            "_________________________________________________________________\n",
            "conv2d_24 (Conv2D)           (None, 126, 126, 32)      9248      \n",
            "_________________________________________________________________\n",
            "conv2d_25 (Conv2D)           (None, 124, 124, 32)      9248      \n",
            "_________________________________________________________________\n",
            "max_pooling2d_4 (MaxPooling2 (None, 62, 62, 32)        0         \n",
            "_________________________________________________________________\n",
            "conv2d_26 (Conv2D)           (None, 60, 60, 64)        18496     \n",
            "_________________________________________________________________\n",
            "conv2d_27 (Conv2D)           (None, 58, 58, 64)        36928     \n",
            "_________________________________________________________________\n",
            "max_pooling2d_5 (MaxPooling2 (None, 29, 29, 64)        0         \n",
            "_________________________________________________________________\n",
            "conv2d_28 (Conv2D)           (None, 27, 27, 128)       73856     \n",
            "_________________________________________________________________\n",
            "conv2d_29 (Conv2D)           (None, 25, 25, 128)       147584    \n",
            "_________________________________________________________________\n",
            "max_pooling2d_6 (MaxPooling2 (None, 12, 12, 128)       0         \n",
            "_________________________________________________________________\n",
            "conv2d_30 (Conv2D)           (None, 10, 10, 256)       295168    \n",
            "_________________________________________________________________\n",
            "conv2d_31 (Conv2D)           (None, 8, 8, 256)         590080    \n",
            "_________________________________________________________________\n",
            "max_pooling2d_7 (MaxPooling2 (None, 4, 4, 256)         0         \n",
            "_________________________________________________________________\n",
            "flatten_3 (Flatten)          (None, 4096)              0         \n",
            "_________________________________________________________________\n",
            "dense_12 (Dense)             (None, 512)               2097664   \n",
            "_________________________________________________________________\n",
            "dropout_4 (Dropout)          (None, 512)               0         \n",
            "_________________________________________________________________\n",
            "dense_13 (Dense)             (None, 256)               131328    \n",
            "_________________________________________________________________\n",
            "dropout_5 (Dropout)          (None, 256)               0         \n",
            "_________________________________________________________________\n",
            "dense_14 (Dense)             (None, 128)               32896     \n",
            "_________________________________________________________________\n",
            "dropout_6 (Dropout)          (None, 128)               0         \n",
            "_________________________________________________________________\n",
            "dense_15 (Dense)             (None, 64)                8256      \n",
            "_________________________________________________________________\n",
            "dense_16 (Dense)             (None, 10)                650       \n",
            "=================================================================\n",
            "Total params: 3,451,722\n",
            "Trainable params: 3,451,722\n",
            "Non-trainable params: 0\n",
            "_________________________________________________________________\n"
          ],
          "name": "stdout"
        }
      ]
    },
    {
      "cell_type": "code",
      "metadata": {
        "id": "B-dMyC33xdI0",
        "colab_type": "code",
        "colab": {
          "base_uri": "https://localhost:8080/",
          "height": 1000
        },
        "outputId": "131bd589-bd6e-49bb-cdf6-0927a182c9d4"
      },
      "source": [
        "batch_size = 128\n",
        "nb_epochs = 50\n",
        "history2 = model.fit(x_train, y_train,\n",
        "                    batch_size=batch_size,\n",
        "                    epochs=nb_epochs, \n",
        "                    validation_data=(x_val, y_val),\n",
        "                    initial_epoch=0)"
      ],
      "execution_count": 15,
      "outputs": [
        {
          "output_type": "stream",
          "text": [
            "Epoch 1/50\n",
            "  2/422 [..............................] - ETA: 2:08 - loss: 0.1699 - accuracy: 0.9414WARNING:tensorflow:Callbacks method `on_train_batch_end` is slow compared to the batch time (batch time: 0.1235s vs `on_train_batch_end` time: 0.2328s). Check your callbacks.\n",
            "422/422 [==============================] - 151s 358ms/step - loss: 0.1377 - accuracy: 0.9493 - val_loss: 0.2641 - val_accuracy: 0.9150\n",
            "Epoch 2/50\n",
            "422/422 [==============================] - 151s 357ms/step - loss: 0.1264 - accuracy: 0.9531 - val_loss: 0.2979 - val_accuracy: 0.9175\n",
            "Epoch 3/50\n",
            "422/422 [==============================] - 151s 357ms/step - loss: 0.1156 - accuracy: 0.9585 - val_loss: 0.2641 - val_accuracy: 0.9198\n",
            "Epoch 4/50\n",
            "422/422 [==============================] - 151s 357ms/step - loss: 0.1039 - accuracy: 0.9624 - val_loss: 0.2771 - val_accuracy: 0.9200\n",
            "Epoch 5/50\n",
            "422/422 [==============================] - 151s 357ms/step - loss: 0.0887 - accuracy: 0.9681 - val_loss: 0.3196 - val_accuracy: 0.9142\n",
            "Epoch 6/50\n",
            "422/422 [==============================] - 151s 357ms/step - loss: 0.0814 - accuracy: 0.9706 - val_loss: 0.3324 - val_accuracy: 0.9168\n",
            "Epoch 7/50\n",
            "422/422 [==============================] - 151s 357ms/step - loss: 0.0761 - accuracy: 0.9727 - val_loss: 0.3221 - val_accuracy: 0.9188\n",
            "Epoch 8/50\n",
            "422/422 [==============================] - 151s 357ms/step - loss: 0.0637 - accuracy: 0.9779 - val_loss: 0.3436 - val_accuracy: 0.9210\n",
            "Epoch 9/50\n",
            "422/422 [==============================] - 150s 356ms/step - loss: 0.0603 - accuracy: 0.9787 - val_loss: 0.3383 - val_accuracy: 0.9228\n",
            "Epoch 10/50\n",
            "422/422 [==============================] - 150s 356ms/step - loss: 0.0596 - accuracy: 0.9794 - val_loss: 0.4252 - val_accuracy: 0.9162\n",
            "Epoch 11/50\n",
            "422/422 [==============================] - 150s 356ms/step - loss: 0.0522 - accuracy: 0.9819 - val_loss: 0.3737 - val_accuracy: 0.9178\n",
            "Epoch 12/50\n",
            "422/422 [==============================] - 150s 356ms/step - loss: 0.0500 - accuracy: 0.9830 - val_loss: 0.3954 - val_accuracy: 0.9200\n",
            "Epoch 13/50\n",
            "422/422 [==============================] - 150s 356ms/step - loss: 0.0480 - accuracy: 0.9837 - val_loss: 0.3618 - val_accuracy: 0.9175\n",
            "Epoch 14/50\n",
            "422/422 [==============================] - 150s 356ms/step - loss: 0.0471 - accuracy: 0.9839 - val_loss: 0.4528 - val_accuracy: 0.9195\n",
            "Epoch 15/50\n",
            "422/422 [==============================] - 150s 356ms/step - loss: 0.0454 - accuracy: 0.9850 - val_loss: 0.3417 - val_accuracy: 0.9167\n",
            "Epoch 16/50\n",
            "422/422 [==============================] - 150s 356ms/step - loss: 0.0353 - accuracy: 0.9882 - val_loss: 0.3891 - val_accuracy: 0.9183\n",
            "Epoch 17/50\n",
            "422/422 [==============================] - 150s 356ms/step - loss: 0.0378 - accuracy: 0.9873 - val_loss: 0.4536 - val_accuracy: 0.9148\n",
            "Epoch 18/50\n",
            "422/422 [==============================] - 150s 356ms/step - loss: 0.0338 - accuracy: 0.9889 - val_loss: 0.4777 - val_accuracy: 0.9147\n",
            "Epoch 19/50\n",
            "422/422 [==============================] - 150s 356ms/step - loss: 0.0378 - accuracy: 0.9875 - val_loss: 0.4348 - val_accuracy: 0.9182\n",
            "Epoch 20/50\n",
            "422/422 [==============================] - 150s 356ms/step - loss: 0.0365 - accuracy: 0.9881 - val_loss: 0.4622 - val_accuracy: 0.9180\n",
            "Epoch 21/50\n",
            "422/422 [==============================] - 150s 356ms/step - loss: 0.0297 - accuracy: 0.9903 - val_loss: 0.4565 - val_accuracy: 0.9180\n",
            "Epoch 22/50\n",
            "422/422 [==============================] - 150s 356ms/step - loss: 0.0304 - accuracy: 0.9907 - val_loss: 0.4769 - val_accuracy: 0.9148\n",
            "Epoch 23/50\n",
            "422/422 [==============================] - 150s 356ms/step - loss: 0.0312 - accuracy: 0.9907 - val_loss: 0.4861 - val_accuracy: 0.9187\n",
            "Epoch 24/50\n",
            "422/422 [==============================] - 150s 356ms/step - loss: 0.0333 - accuracy: 0.9896 - val_loss: 0.4487 - val_accuracy: 0.9188\n",
            "Epoch 25/50\n",
            "422/422 [==============================] - 150s 356ms/step - loss: 0.0282 - accuracy: 0.9907 - val_loss: 0.5156 - val_accuracy: 0.9135\n",
            "Epoch 26/50\n",
            "422/422 [==============================] - 150s 356ms/step - loss: 0.0324 - accuracy: 0.9891 - val_loss: 0.4914 - val_accuracy: 0.9175\n",
            "Epoch 27/50\n",
            "422/422 [==============================] - 150s 356ms/step - loss: 0.0323 - accuracy: 0.9899 - val_loss: 0.4745 - val_accuracy: 0.9188\n",
            "Epoch 28/50\n",
            "422/422 [==============================] - 150s 356ms/step - loss: 0.0244 - accuracy: 0.9925 - val_loss: 0.5076 - val_accuracy: 0.9167\n",
            "Epoch 29/50\n",
            "422/422 [==============================] - 150s 356ms/step - loss: 0.0278 - accuracy: 0.9916 - val_loss: 0.4309 - val_accuracy: 0.9147\n",
            "Epoch 30/50\n",
            "422/422 [==============================] - 150s 356ms/step - loss: 0.0254 - accuracy: 0.9917 - val_loss: 0.5657 - val_accuracy: 0.9162\n",
            "Epoch 31/50\n",
            "422/422 [==============================] - 150s 356ms/step - loss: 0.0284 - accuracy: 0.9915 - val_loss: 0.4819 - val_accuracy: 0.9165\n",
            "Epoch 32/50\n",
            "422/422 [==============================] - 150s 355ms/step - loss: 0.0280 - accuracy: 0.9916 - val_loss: 0.5310 - val_accuracy: 0.9178\n",
            "Epoch 33/50\n",
            "422/422 [==============================] - 150s 355ms/step - loss: 0.0258 - accuracy: 0.9921 - val_loss: 0.4904 - val_accuracy: 0.9182\n",
            "Epoch 34/50\n",
            "422/422 [==============================] - 150s 355ms/step - loss: 0.0204 - accuracy: 0.9936 - val_loss: 0.6128 - val_accuracy: 0.9170\n",
            "Epoch 35/50\n",
            "422/422 [==============================] - 150s 355ms/step - loss: 0.0311 - accuracy: 0.9905 - val_loss: 0.4294 - val_accuracy: 0.9150\n",
            "Epoch 36/50\n",
            "422/422 [==============================] - 150s 355ms/step - loss: 0.0233 - accuracy: 0.9931 - val_loss: 0.4803 - val_accuracy: 0.9180\n",
            "Epoch 37/50\n",
            "422/422 [==============================] - 150s 355ms/step - loss: 0.0254 - accuracy: 0.9923 - val_loss: 0.5336 - val_accuracy: 0.9132\n",
            "Epoch 38/50\n",
            "422/422 [==============================] - 150s 355ms/step - loss: 0.0237 - accuracy: 0.9924 - val_loss: 0.5860 - val_accuracy: 0.9180\n",
            "Epoch 39/50\n",
            "422/422 [==============================] - 150s 355ms/step - loss: 0.0209 - accuracy: 0.9942 - val_loss: 0.4520 - val_accuracy: 0.9213\n",
            "Epoch 40/50\n",
            "422/422 [==============================] - 150s 355ms/step - loss: 0.0212 - accuracy: 0.9939 - val_loss: 0.4888 - val_accuracy: 0.9212\n",
            "Epoch 41/50\n",
            "422/422 [==============================] - 149s 354ms/step - loss: 0.0235 - accuracy: 0.9929 - val_loss: 0.5174 - val_accuracy: 0.9143\n",
            "Epoch 42/50\n",
            "422/422 [==============================] - 150s 354ms/step - loss: 0.0242 - accuracy: 0.9926 - val_loss: 0.5210 - val_accuracy: 0.9210\n",
            "Epoch 43/50\n",
            "422/422 [==============================] - 150s 355ms/step - loss: 0.0183 - accuracy: 0.9943 - val_loss: 0.5487 - val_accuracy: 0.9187\n",
            "Epoch 44/50\n",
            "422/422 [==============================] - 150s 355ms/step - loss: 0.0241 - accuracy: 0.9933 - val_loss: 0.6226 - val_accuracy: 0.9157\n",
            "Epoch 45/50\n",
            "422/422 [==============================] - 149s 354ms/step - loss: 0.0187 - accuracy: 0.9945 - val_loss: 0.5430 - val_accuracy: 0.9228\n",
            "Epoch 46/50\n",
            "422/422 [==============================] - 150s 355ms/step - loss: 0.0211 - accuracy: 0.9936 - val_loss: 0.5921 - val_accuracy: 0.9170\n",
            "Epoch 47/50\n",
            "422/422 [==============================] - 150s 355ms/step - loss: 0.0188 - accuracy: 0.9947 - val_loss: 0.6489 - val_accuracy: 0.9187\n",
            "Epoch 48/50\n",
            "422/422 [==============================] - 149s 354ms/step - loss: 0.0187 - accuracy: 0.9944 - val_loss: 0.6712 - val_accuracy: 0.9162\n",
            "Epoch 49/50\n",
            "422/422 [==============================] - 150s 354ms/step - loss: 0.0227 - accuracy: 0.9932 - val_loss: 0.5584 - val_accuracy: 0.9180\n",
            "Epoch 50/50\n",
            "422/422 [==============================] - 149s 354ms/step - loss: 0.0247 - accuracy: 0.9927 - val_loss: 0.5474 - val_accuracy: 0.9175\n"
          ],
          "name": "stdout"
        }
      ]
    },
    {
      "cell_type": "code",
      "metadata": {
        "id": "-6d-IxvcMcUu",
        "colab_type": "code",
        "colab": {
          "base_uri": "https://localhost:8080/",
          "height": 87
        },
        "outputId": "8e243b8e-4132-44fe-eb13-a3266c3d23dc"
      },
      "source": [
        "y_pred = model.predict_classes(x_test_data)"
      ],
      "execution_count": 16,
      "outputs": [
        {
          "output_type": "stream",
          "text": [
            "WARNING:tensorflow:From <ipython-input-16-b5791b5d38ca>:1: Sequential.predict_classes (from tensorflow.python.keras.engine.sequential) is deprecated and will be removed after 2021-01-01.\n",
            "Instructions for updating:\n",
            "Please use instead:* `np.argmax(model.predict(x), axis=-1)`,   if your model does multi-class classification   (e.g. if it uses a `softmax` last-layer activation).* `(model.predict(x) > 0.5).astype(\"int32\")`,   if your model does binary classification   (e.g. if it uses a `sigmoid` last-layer activation).\n"
          ],
          "name": "stdout"
        }
      ]
    },
    {
      "cell_type": "code",
      "metadata": {
        "id": "O8aAls3fL41f",
        "colab_type": "code",
        "colab": {}
      },
      "source": [
        "preds = pd.DataFrame(data=y_pred ,columns=[\"label\"])"
      ],
      "execution_count": 17,
      "outputs": []
    },
    {
      "cell_type": "code",
      "metadata": {
        "id": "HSthn7rbMpB0",
        "colab_type": "code",
        "colab": {}
      },
      "source": [
        "submission = pd.read_csv('/content/drive/My Drive/HAX/sample_submission_I5njJSF.csv')"
      ],
      "execution_count": 18,
      "outputs": []
    },
    {
      "cell_type": "code",
      "metadata": {
        "id": "Ggdmum25MuwU",
        "colab_type": "code",
        "colab": {
          "base_uri": "https://localhost:8080/",
          "height": 218
        },
        "outputId": "b2bd34a6-64be-4447-8c7e-9c1d1a3da20d"
      },
      "source": [
        "sub = submission['id']\n",
        "sub"
      ],
      "execution_count": 19,
      "outputs": [
        {
          "output_type": "execute_result",
          "data": {
            "text/plain": [
              "0       60001\n",
              "1       60002\n",
              "2       60003\n",
              "3       60004\n",
              "4       60005\n",
              "        ...  \n",
              "9995    69996\n",
              "9996    69997\n",
              "9997    69998\n",
              "9998    69999\n",
              "9999    70000\n",
              "Name: id, Length: 10000, dtype: int64"
            ]
          },
          "metadata": {
            "tags": []
          },
          "execution_count": 19
        }
      ]
    },
    {
      "cell_type": "code",
      "metadata": {
        "id": "2u5H2rwBMzLQ",
        "colab_type": "code",
        "colab": {}
      },
      "source": [
        "DT = pd.merge(sub , preds, on=None, left_index= True,\n",
        "    right_index=True)"
      ],
      "execution_count": 20,
      "outputs": []
    },
    {
      "cell_type": "code",
      "metadata": {
        "id": "EY_UlAjuM5g_",
        "colab_type": "code",
        "colab": {}
      },
      "source": [
        "DT.to_csv('submission_1.csv',index = False)"
      ],
      "execution_count": 21,
      "outputs": []
    },
    {
      "cell_type": "code",
      "metadata": {
        "id": "VFWZj-QBNByg",
        "colab_type": "code",
        "colab": {}
      },
      "source": [
        "!cp submission_1.csv \"drive/My Drive/\""
      ],
      "execution_count": 22,
      "outputs": []
    },
    {
      "cell_type": "code",
      "metadata": {
        "id": "kBHoPhGTT9OE",
        "colab_type": "code",
        "colab": {}
      },
      "source": [
        "from tensorflow.keras.layers import BatchNormalization"
      ],
      "execution_count": 23,
      "outputs": []
    },
    {
      "cell_type": "code",
      "metadata": {
        "id": "vaFxi87jRuLz",
        "colab_type": "code",
        "colab": {
          "base_uri": "https://localhost:8080/",
          "height": 924
        },
        "outputId": "ae7405e3-dd7f-4daa-9161-dcbb6567bdae"
      },
      "source": [
        "model=Sequential()\n",
        "\n",
        "\n",
        "model.add(Conv2D(32,kernel_size=(3,3),activation='relu',input_shape = (img_rows, img_cols, num_channel)))\n",
        "model.add(ZeroPadding2D(padding=(1,1)))\n",
        "\n",
        "model.add(Conv2D(32,kernel_size=(3,3),activation='relu'))\n",
        "model.add(Conv2D(32,kernel_size=(3,3),activation='relu'))\n",
        "model.add(MaxPooling2D(pool_size=(2,2)))\n",
        "\n",
        "model.add(Conv2D(64,kernel_size=(3,3),activation='relu'))\n",
        "model.add(Conv2D(64,kernel_size=(3,3),activation='relu'))\n",
        "model.add(MaxPooling2D(pool_size=(2,2)))\n",
        "\n",
        "model.add(Conv2D(128,kernel_size=(3,3),activation='relu'))\n",
        "model.add(Conv2D(128,kernel_size=(3,3),activation='relu'))\n",
        "model.add(MaxPooling2D(pool_size=(2,2)))\n",
        "\n",
        "model.add(Conv2D(256,kernel_size=(3,3),activation='relu'))\n",
        "model.add(Conv2D(256,kernel_size=(3,3),activation='relu'))\n",
        "model.add(MaxPooling2D(pool_size=(2,2)))\n",
        "\n",
        "model.add(Flatten())\n",
        "model.add(Dense(512,activation='relu'))\n",
        "#model.add(Dropout(0.2))\n",
        "model.add(BatchNormalization())\n",
        "\n",
        "model.add(Dense(256,activation='relu'))\n",
        "#model.add(Dropout(0.2))\n",
        "model.add(BatchNormalization())\n",
        "\n",
        "model.add(Dense(128,activation='relu'))\n",
        "#model.add(Dropout(0.2))\n",
        "model.add(BatchNormalization())\n",
        "\n",
        "model.add(Dense(64,activation='relu'))\n",
        "#model.add(Dropout(0.2))\n",
        "\n",
        "model.add(Dense(10,activation='softmax'))\n",
        "\n",
        "model.compile(loss='categorical_crossentropy', optimizer='adam',metrics=['accuracy'])\n",
        "model.summary()"
      ],
      "execution_count": 24,
      "outputs": [
        {
          "output_type": "stream",
          "text": [
            "Model: \"sequential_4\"\n",
            "_________________________________________________________________\n",
            "Layer (type)                 Output Shape              Param #   \n",
            "=================================================================\n",
            "conv2d_32 (Conv2D)           (None, 126, 126, 32)      320       \n",
            "_________________________________________________________________\n",
            "zero_padding2d_2 (ZeroPaddin (None, 128, 128, 32)      0         \n",
            "_________________________________________________________________\n",
            "conv2d_33 (Conv2D)           (None, 126, 126, 32)      9248      \n",
            "_________________________________________________________________\n",
            "conv2d_34 (Conv2D)           (None, 124, 124, 32)      9248      \n",
            "_________________________________________________________________\n",
            "max_pooling2d_8 (MaxPooling2 (None, 62, 62, 32)        0         \n",
            "_________________________________________________________________\n",
            "conv2d_35 (Conv2D)           (None, 60, 60, 64)        18496     \n",
            "_________________________________________________________________\n",
            "conv2d_36 (Conv2D)           (None, 58, 58, 64)        36928     \n",
            "_________________________________________________________________\n",
            "max_pooling2d_9 (MaxPooling2 (None, 29, 29, 64)        0         \n",
            "_________________________________________________________________\n",
            "conv2d_37 (Conv2D)           (None, 27, 27, 128)       73856     \n",
            "_________________________________________________________________\n",
            "conv2d_38 (Conv2D)           (None, 25, 25, 128)       147584    \n",
            "_________________________________________________________________\n",
            "max_pooling2d_10 (MaxPooling (None, 12, 12, 128)       0         \n",
            "_________________________________________________________________\n",
            "conv2d_39 (Conv2D)           (None, 10, 10, 256)       295168    \n",
            "_________________________________________________________________\n",
            "conv2d_40 (Conv2D)           (None, 8, 8, 256)         590080    \n",
            "_________________________________________________________________\n",
            "max_pooling2d_11 (MaxPooling (None, 4, 4, 256)         0         \n",
            "_________________________________________________________________\n",
            "flatten_4 (Flatten)          (None, 4096)              0         \n",
            "_________________________________________________________________\n",
            "dense_17 (Dense)             (None, 512)               2097664   \n",
            "_________________________________________________________________\n",
            "batch_normalization (BatchNo (None, 512)               2048      \n",
            "_________________________________________________________________\n",
            "dense_18 (Dense)             (None, 256)               131328    \n",
            "_________________________________________________________________\n",
            "batch_normalization_1 (Batch (None, 256)               1024      \n",
            "_________________________________________________________________\n",
            "dense_19 (Dense)             (None, 128)               32896     \n",
            "_________________________________________________________________\n",
            "batch_normalization_2 (Batch (None, 128)               512       \n",
            "_________________________________________________________________\n",
            "dense_20 (Dense)             (None, 64)                8256      \n",
            "_________________________________________________________________\n",
            "dense_21 (Dense)             (None, 10)                650       \n",
            "=================================================================\n",
            "Total params: 3,455,306\n",
            "Trainable params: 3,453,514\n",
            "Non-trainable params: 1,792\n",
            "_________________________________________________________________\n"
          ],
          "name": "stdout"
        }
      ]
    },
    {
      "cell_type": "code",
      "metadata": {
        "id": "K3VY9vLfU5Ab",
        "colab_type": "code",
        "colab": {
          "base_uri": "https://localhost:8080/",
          "height": 726
        },
        "outputId": "083bc259-4a70-441c-e6d5-a8cfe3f5322a"
      },
      "source": [
        "batch_size = 128\n",
        "nb_epochs = 20\n",
        "history = model.fit(x_train, y_train,\n",
        "                    batch_size=batch_size,\n",
        "                    epochs=nb_epochs, \n",
        "                    validation_data=(x_val, y_val),\n",
        "                    initial_epoch=0)"
      ],
      "execution_count": 25,
      "outputs": [
        {
          "output_type": "stream",
          "text": [
            "Epoch 1/20\n",
            "  2/422 [..............................] - ETA: 2:10 - loss: 2.4871 - accuracy: 0.1758WARNING:tensorflow:Callbacks method `on_train_batch_end` is slow compared to the batch time (batch time: 0.1262s vs `on_train_batch_end` time: 0.2353s). Check your callbacks.\n",
            "422/422 [==============================] - 154s 364ms/step - loss: 0.4964 - accuracy: 0.8171 - val_loss: 0.5347 - val_accuracy: 0.8152\n",
            "Epoch 2/20\n",
            "422/422 [==============================] - 153s 362ms/step - loss: 0.3095 - accuracy: 0.8854 - val_loss: 0.4581 - val_accuracy: 0.8505\n",
            "Epoch 3/20\n",
            "422/422 [==============================] - 153s 362ms/step - loss: 0.2648 - accuracy: 0.9029 - val_loss: 0.2726 - val_accuracy: 0.9047\n",
            "Epoch 4/20\n",
            "422/422 [==============================] - 152s 361ms/step - loss: 0.2405 - accuracy: 0.9110 - val_loss: 0.2662 - val_accuracy: 0.9033\n",
            "Epoch 5/20\n",
            "422/422 [==============================] - 152s 361ms/step - loss: 0.2183 - accuracy: 0.9195 - val_loss: 0.2760 - val_accuracy: 0.9008\n",
            "Epoch 6/20\n",
            "422/422 [==============================] - 152s 360ms/step - loss: 0.2008 - accuracy: 0.9254 - val_loss: 0.2381 - val_accuracy: 0.9165\n",
            "Epoch 7/20\n",
            "422/422 [==============================] - 152s 360ms/step - loss: 0.1855 - accuracy: 0.9315 - val_loss: 0.2528 - val_accuracy: 0.9158\n",
            "Epoch 8/20\n",
            "422/422 [==============================] - 152s 360ms/step - loss: 0.1684 - accuracy: 0.9369 - val_loss: 0.2698 - val_accuracy: 0.9067\n",
            "Epoch 9/20\n",
            "422/422 [==============================] - 152s 360ms/step - loss: 0.1525 - accuracy: 0.9432 - val_loss: 0.2413 - val_accuracy: 0.9178\n",
            "Epoch 10/20\n",
            "422/422 [==============================] - 152s 360ms/step - loss: 0.1381 - accuracy: 0.9484 - val_loss: 0.3372 - val_accuracy: 0.9000\n",
            "Epoch 11/20\n",
            "422/422 [==============================] - 152s 360ms/step - loss: 0.1223 - accuracy: 0.9541 - val_loss: 0.2923 - val_accuracy: 0.9057\n",
            "Epoch 12/20\n",
            "422/422 [==============================] - 152s 360ms/step - loss: 0.1106 - accuracy: 0.9584 - val_loss: 0.2746 - val_accuracy: 0.9183\n",
            "Epoch 13/20\n",
            "422/422 [==============================] - 152s 360ms/step - loss: 0.0983 - accuracy: 0.9641 - val_loss: 0.3208 - val_accuracy: 0.9143\n",
            "Epoch 14/20\n",
            "422/422 [==============================] - 152s 359ms/step - loss: 0.0844 - accuracy: 0.9693 - val_loss: 0.2671 - val_accuracy: 0.9208\n",
            "Epoch 15/20\n",
            "422/422 [==============================] - 152s 359ms/step - loss: 0.0743 - accuracy: 0.9727 - val_loss: 0.3116 - val_accuracy: 0.9128\n",
            "Epoch 16/20\n",
            "422/422 [==============================] - 152s 359ms/step - loss: 0.0643 - accuracy: 0.9765 - val_loss: 0.3344 - val_accuracy: 0.9145\n",
            "Epoch 17/20\n",
            "422/422 [==============================] - 152s 359ms/step - loss: 0.0597 - accuracy: 0.9782 - val_loss: 0.3357 - val_accuracy: 0.9180\n",
            "Epoch 18/20\n",
            "422/422 [==============================] - 152s 359ms/step - loss: 0.0511 - accuracy: 0.9805 - val_loss: 0.3353 - val_accuracy: 0.9172\n",
            "Epoch 19/20\n",
            "422/422 [==============================] - 152s 359ms/step - loss: 0.0442 - accuracy: 0.9842 - val_loss: 0.4166 - val_accuracy: 0.9073\n",
            "Epoch 20/20\n",
            "422/422 [==============================] - 152s 359ms/step - loss: 0.0417 - accuracy: 0.9857 - val_loss: 0.3561 - val_accuracy: 0.9190\n"
          ],
          "name": "stdout"
        }
      ]
    },
    {
      "cell_type": "code",
      "metadata": {
        "id": "gQmYb6d6ptl3",
        "colab_type": "code",
        "colab": {}
      },
      "source": [
        "y_pred = model.predict_classes(x_test_data)"
      ],
      "execution_count": 26,
      "outputs": []
    },
    {
      "cell_type": "code",
      "metadata": {
        "id": "YpVXgq7Hpi4o",
        "colab_type": "code",
        "colab": {}
      },
      "source": [
        "preds = pd.DataFrame(data=y_pred ,columns=[\"label\"])"
      ],
      "execution_count": 27,
      "outputs": []
    },
    {
      "cell_type": "code",
      "metadata": {
        "id": "zCT875S6p-Ig",
        "colab_type": "code",
        "colab": {}
      },
      "source": [
        "DT = pd.merge(sub , preds, on=None, left_index= True,\n",
        "    right_index=True)"
      ],
      "execution_count": 28,
      "outputs": []
    },
    {
      "cell_type": "code",
      "metadata": {
        "id": "jGQZF7nDqDvs",
        "colab_type": "code",
        "colab": {}
      },
      "source": [
        "DT.to_csv('submission_2.csv',index = False)"
      ],
      "execution_count": 29,
      "outputs": []
    },
    {
      "cell_type": "code",
      "metadata": {
        "id": "_L0XmtlvqdIn",
        "colab_type": "code",
        "colab": {}
      },
      "source": [
        "!cp submission_2.csv \"drive/My Drive/\""
      ],
      "execution_count": 30,
      "outputs": []
    },
    {
      "cell_type": "code",
      "metadata": {
        "id": "dJ9YD-00qsTp",
        "colab_type": "code",
        "colab": {
          "base_uri": "https://localhost:8080/",
          "height": 1000
        },
        "outputId": "f48ab9eb-a873-4f8f-84c0-afc1502a8a79"
      },
      "source": [
        "model=Sequential()\n",
        "\n",
        "model.add(Conv2D(32,kernel_size=(3,3),activation='relu',input_shape = (img_rows, img_cols, num_channel)))\n",
        "model.add(ZeroPadding2D(padding=(1,1)))\n",
        "\n",
        "model.add(Conv2D(32,kernel_size=(3,3),activation='relu'))\n",
        "model.add(Conv2D(32,kernel_size=(3,3),activation='relu'))\n",
        "model.add(MaxPooling2D(pool_size=(2,2)))\n",
        "model.add(BatchNormalization())\n",
        "\n",
        "model.add(Conv2D(64,kernel_size=(3,3),activation='relu'))\n",
        "model.add(Conv2D(64,kernel_size=(3,3),activation='relu'))\n",
        "model.add(MaxPooling2D(pool_size=(2,2)))\n",
        "model.add(BatchNormalization())\n",
        "\n",
        "model.add(Conv2D(128,kernel_size=(3,3),activation='relu'))\n",
        "model.add(Conv2D(128,kernel_size=(3,3),activation='relu'))\n",
        "model.add(MaxPooling2D(pool_size=(2,2)))\n",
        "model.add(BatchNormalization())\n",
        "\n",
        "model.add(Conv2D(256,kernel_size=(3,3),activation='relu'))\n",
        "model.add(Conv2D(256,kernel_size=(3,3),activation='relu'))\n",
        "model.add(MaxPooling2D(pool_size=(2,2)))\n",
        "\n",
        "model.add(Flatten())\n",
        "model.add(Dense(512,activation='relu'))\n",
        "#model.add(Dropout(0.2))\n",
        "model.add(BatchNormalization())\n",
        "\n",
        "model.add(Dense(256,activation='relu'))\n",
        "#model.add(Dropout(0.2))\n",
        "model.add(BatchNormalization())\n",
        "\n",
        "model.add(Dense(128,activation='relu'))\n",
        "#model.add(Dropout(0.2))\n",
        "model.add(BatchNormalization())\n",
        "\n",
        "model.add(Dense(64,activation='relu'))\n",
        "#model.add(Dropout(0.2))\n",
        "\n",
        "model.add(Dense(10,activation='softmax'))\n",
        "opt = Adam(lr=0.0001)\n",
        "model.compile(loss='categorical_crossentropy', optimizer=opt, metrics=['accuracy'])\n",
        "model.summary()"
      ],
      "execution_count": 32,
      "outputs": [
        {
          "output_type": "stream",
          "text": [
            "Model: \"sequential_6\"\n",
            "_________________________________________________________________\n",
            "Layer (type)                 Output Shape              Param #   \n",
            "=================================================================\n",
            "conv2d_50 (Conv2D)           (None, 126, 126, 32)      320       \n",
            "_________________________________________________________________\n",
            "zero_padding2d_4 (ZeroPaddin (None, 128, 128, 32)      0         \n",
            "_________________________________________________________________\n",
            "conv2d_51 (Conv2D)           (None, 126, 126, 32)      9248      \n",
            "_________________________________________________________________\n",
            "conv2d_52 (Conv2D)           (None, 124, 124, 32)      9248      \n",
            "_________________________________________________________________\n",
            "max_pooling2d_16 (MaxPooling (None, 62, 62, 32)        0         \n",
            "_________________________________________________________________\n",
            "batch_normalization_9 (Batch (None, 62, 62, 32)        128       \n",
            "_________________________________________________________________\n",
            "conv2d_53 (Conv2D)           (None, 60, 60, 64)        18496     \n",
            "_________________________________________________________________\n",
            "conv2d_54 (Conv2D)           (None, 58, 58, 64)        36928     \n",
            "_________________________________________________________________\n",
            "max_pooling2d_17 (MaxPooling (None, 29, 29, 64)        0         \n",
            "_________________________________________________________________\n",
            "batch_normalization_10 (Batc (None, 29, 29, 64)        256       \n",
            "_________________________________________________________________\n",
            "conv2d_55 (Conv2D)           (None, 27, 27, 128)       73856     \n",
            "_________________________________________________________________\n",
            "conv2d_56 (Conv2D)           (None, 25, 25, 128)       147584    \n",
            "_________________________________________________________________\n",
            "max_pooling2d_18 (MaxPooling (None, 12, 12, 128)       0         \n",
            "_________________________________________________________________\n",
            "batch_normalization_11 (Batc (None, 12, 12, 128)       512       \n",
            "_________________________________________________________________\n",
            "conv2d_57 (Conv2D)           (None, 10, 10, 256)       295168    \n",
            "_________________________________________________________________\n",
            "conv2d_58 (Conv2D)           (None, 8, 8, 256)         590080    \n",
            "_________________________________________________________________\n",
            "max_pooling2d_19 (MaxPooling (None, 4, 4, 256)         0         \n",
            "_________________________________________________________________\n",
            "flatten_6 (Flatten)          (None, 4096)              0         \n",
            "_________________________________________________________________\n",
            "dense_27 (Dense)             (None, 512)               2097664   \n",
            "_________________________________________________________________\n",
            "batch_normalization_12 (Batc (None, 512)               2048      \n",
            "_________________________________________________________________\n",
            "dense_28 (Dense)             (None, 256)               131328    \n",
            "_________________________________________________________________\n",
            "batch_normalization_13 (Batc (None, 256)               1024      \n",
            "_________________________________________________________________\n",
            "dense_29 (Dense)             (None, 128)               32896     \n",
            "_________________________________________________________________\n",
            "batch_normalization_14 (Batc (None, 128)               512       \n",
            "_________________________________________________________________\n",
            "dense_30 (Dense)             (None, 64)                8256      \n",
            "_________________________________________________________________\n",
            "dense_31 (Dense)             (None, 10)                650       \n",
            "=================================================================\n",
            "Total params: 3,456,202\n",
            "Trainable params: 3,453,962\n",
            "Non-trainable params: 2,240\n",
            "_________________________________________________________________\n"
          ],
          "name": "stdout"
        }
      ]
    },
    {
      "cell_type": "code",
      "metadata": {
        "id": "2lfg43txrAlc",
        "colab_type": "code",
        "colab": {
          "base_uri": "https://localhost:8080/",
          "height": 726
        },
        "outputId": "527527c0-9913-4a15-9666-d5793bed5dbc"
      },
      "source": [
        "batch_size = 128\n",
        "nb_epochs = 20\n",
        "history = model.fit(x_train, y_train,\n",
        "                    batch_size=batch_size,\n",
        "                    epochs=nb_epochs, \n",
        "                    validation_data=(x_val, y_val),\n",
        "                    initial_epoch=0)"
      ],
      "execution_count": 33,
      "outputs": [
        {
          "output_type": "stream",
          "text": [
            "Epoch 1/20\n",
            "  2/422 [..............................] - ETA: 2:15 - loss: 2.7024 - accuracy: 0.1055WARNING:tensorflow:Callbacks method `on_train_batch_end` is slow compared to the batch time (batch time: 0.1317s vs `on_train_batch_end` time: 0.2399s). Check your callbacks.\n",
            "422/422 [==============================] - 158s 374ms/step - loss: 0.5419 - accuracy: 0.8159 - val_loss: 3.5205 - val_accuracy: 0.1242\n",
            "Epoch 2/20\n",
            "422/422 [==============================] - 157s 373ms/step - loss: 0.3048 - accuracy: 0.8926 - val_loss: 0.3228 - val_accuracy: 0.8868\n",
            "Epoch 3/20\n",
            "422/422 [==============================] - 157s 373ms/step - loss: 0.2409 - accuracy: 0.9143 - val_loss: 0.2990 - val_accuracy: 0.8888\n",
            "Epoch 4/20\n",
            "422/422 [==============================] - 157s 372ms/step - loss: 0.1981 - accuracy: 0.9297 - val_loss: 0.3172 - val_accuracy: 0.8865\n",
            "Epoch 5/20\n",
            "422/422 [==============================] - 157s 373ms/step - loss: 0.1650 - accuracy: 0.9404 - val_loss: 0.3295 - val_accuracy: 0.8812\n",
            "Epoch 6/20\n",
            "422/422 [==============================] - 157s 373ms/step - loss: 0.1340 - accuracy: 0.9528 - val_loss: 0.2844 - val_accuracy: 0.9020\n",
            "Epoch 7/20\n",
            "422/422 [==============================] - 157s 373ms/step - loss: 0.1082 - accuracy: 0.9629 - val_loss: 0.3702 - val_accuracy: 0.8808\n",
            "Epoch 8/20\n",
            "422/422 [==============================] - 157s 372ms/step - loss: 0.0848 - accuracy: 0.9695 - val_loss: 0.3123 - val_accuracy: 0.8990\n",
            "Epoch 9/20\n",
            "422/422 [==============================] - 157s 373ms/step - loss: 0.0647 - accuracy: 0.9784 - val_loss: 0.3187 - val_accuracy: 0.9012\n",
            "Epoch 10/20\n",
            "422/422 [==============================] - 157s 373ms/step - loss: 0.0524 - accuracy: 0.9819 - val_loss: 0.3479 - val_accuracy: 0.8957\n",
            "Epoch 11/20\n",
            "422/422 [==============================] - 157s 372ms/step - loss: 0.0486 - accuracy: 0.9833 - val_loss: 0.4040 - val_accuracy: 0.8840\n",
            "Epoch 12/20\n",
            "422/422 [==============================] - 157s 372ms/step - loss: 0.0345 - accuracy: 0.9888 - val_loss: 0.3660 - val_accuracy: 0.8960\n",
            "Epoch 13/20\n",
            "422/422 [==============================] - 157s 373ms/step - loss: 0.0363 - accuracy: 0.9875 - val_loss: 0.3654 - val_accuracy: 0.9028\n",
            "Epoch 14/20\n",
            "422/422 [==============================] - 157s 373ms/step - loss: 0.0278 - accuracy: 0.9908 - val_loss: 0.3453 - val_accuracy: 0.9090\n",
            "Epoch 15/20\n",
            "422/422 [==============================] - 157s 373ms/step - loss: 0.0260 - accuracy: 0.9915 - val_loss: 0.3724 - val_accuracy: 0.9060\n",
            "Epoch 16/20\n",
            "422/422 [==============================] - 157s 372ms/step - loss: 0.0274 - accuracy: 0.9906 - val_loss: 0.3637 - val_accuracy: 0.9107\n",
            "Epoch 17/20\n",
            "422/422 [==============================] - 157s 373ms/step - loss: 0.0218 - accuracy: 0.9929 - val_loss: 0.3603 - val_accuracy: 0.9185\n",
            "Epoch 18/20\n",
            "422/422 [==============================] - 157s 372ms/step - loss: 0.0210 - accuracy: 0.9932 - val_loss: 0.3794 - val_accuracy: 0.9153\n",
            "Epoch 19/20\n",
            "422/422 [==============================] - 157s 373ms/step - loss: 0.0207 - accuracy: 0.9931 - val_loss: 0.3610 - val_accuracy: 0.9185\n",
            "Epoch 20/20\n",
            "422/422 [==============================] - 157s 373ms/step - loss: 0.0193 - accuracy: 0.9934 - val_loss: 0.4128 - val_accuracy: 0.9058\n"
          ],
          "name": "stdout"
        }
      ]
    },
    {
      "cell_type": "code",
      "metadata": {
        "id": "0Gyo0dqoHasW",
        "colab_type": "code",
        "colab": {
          "base_uri": "https://localhost:8080/",
          "height": 756
        },
        "outputId": "484af548-ec56-4830-c4a2-4fe9d4fdaa05"
      },
      "source": [
        "model=Sequential()\n",
        "\n",
        "\n",
        "model.add(Conv2D(32,kernel_size=(3,3),activation='relu',input_shape = (img_rows, img_cols, num_channel)))\n",
        "model.add(ZeroPadding2D(padding=(1,1)))\n",
        "\n",
        "model.add(Conv2D(32,kernel_size=(3,3),activation='relu'))\n",
        "model.add(Conv2D(32,kernel_size=(3,3),activation='relu'))\n",
        "model.add(MaxPooling2D(pool_size=(2,2)))\n",
        "\n",
        "model.add(Conv2D(64,kernel_size=(3,3),activation='relu'))\n",
        "model.add(Conv2D(64,kernel_size=(3,3),activation='relu'))\n",
        "model.add(MaxPooling2D(pool_size=(2,2)))\n",
        "\n",
        "model.add(Conv2D(128,kernel_size=(3,3),activation='relu'))\n",
        "model.add(Conv2D(128,kernel_size=(3,3),activation='relu'))\n",
        "model.add(MaxPooling2D(pool_size=(2,2)))\n",
        "\n",
        "\n",
        "model.add(Flatten())\n",
        "model.add(Dense(512,activation='relu'))\n",
        "#model.add(Dropout(0.2))\n",
        "model.add(BatchNormalization())\n",
        "\n",
        "\n",
        "model.add(Dense(128,activation='relu'))\n",
        "#model.add(Dropout(0.2))\n",
        "model.add(BatchNormalization())\n",
        "\n",
        "model.add(Dense(64,activation='relu'))\n",
        "#model.add(Dropout(0.2))\n",
        "\n",
        "model.add(Dense(10,activation='softmax'))\n",
        "\n",
        "model.compile(loss='categorical_crossentropy', optimizer='adam',metrics=['accuracy'])\n",
        "model.summary()"
      ],
      "execution_count": 47,
      "outputs": [
        {
          "output_type": "stream",
          "text": [
            "Model: \"sequential_16\"\n",
            "_________________________________________________________________\n",
            "Layer (type)                 Output Shape              Param #   \n",
            "=================================================================\n",
            "conv2d_79 (Conv2D)           (None, 126, 126, 32)      320       \n",
            "_________________________________________________________________\n",
            "zero_padding2d_6 (ZeroPaddin (None, 128, 128, 32)      0         \n",
            "_________________________________________________________________\n",
            "conv2d_80 (Conv2D)           (None, 126, 126, 32)      9248      \n",
            "_________________________________________________________________\n",
            "conv2d_81 (Conv2D)           (None, 124, 124, 32)      9248      \n",
            "_________________________________________________________________\n",
            "max_pooling2d_23 (MaxPooling (None, 62, 62, 32)        0         \n",
            "_________________________________________________________________\n",
            "conv2d_82 (Conv2D)           (None, 60, 60, 64)        18496     \n",
            "_________________________________________________________________\n",
            "conv2d_83 (Conv2D)           (None, 58, 58, 64)        36928     \n",
            "_________________________________________________________________\n",
            "max_pooling2d_24 (MaxPooling (None, 29, 29, 64)        0         \n",
            "_________________________________________________________________\n",
            "conv2d_84 (Conv2D)           (None, 27, 27, 128)       73856     \n",
            "_________________________________________________________________\n",
            "conv2d_85 (Conv2D)           (None, 25, 25, 128)       147584    \n",
            "_________________________________________________________________\n",
            "max_pooling2d_25 (MaxPooling (None, 12, 12, 128)       0         \n",
            "_________________________________________________________________\n",
            "flatten_16 (Flatten)         (None, 18432)             0         \n",
            "_________________________________________________________________\n",
            "dense_49 (Dense)             (None, 512)               9437696   \n",
            "_________________________________________________________________\n",
            "batch_normalization_20 (Batc (None, 512)               2048      \n",
            "_________________________________________________________________\n",
            "dense_50 (Dense)             (None, 128)               65664     \n",
            "_________________________________________________________________\n",
            "batch_normalization_21 (Batc (None, 128)               512       \n",
            "_________________________________________________________________\n",
            "dense_51 (Dense)             (None, 64)                8256      \n",
            "_________________________________________________________________\n",
            "dense_52 (Dense)             (None, 10)                650       \n",
            "=================================================================\n",
            "Total params: 9,810,506\n",
            "Trainable params: 9,809,226\n",
            "Non-trainable params: 1,280\n",
            "_________________________________________________________________\n"
          ],
          "name": "stdout"
        }
      ]
    },
    {
      "cell_type": "code",
      "metadata": {
        "id": "Of5j6bMNHnCF",
        "colab_type": "code",
        "colab": {
          "base_uri": "https://localhost:8080/",
          "height": 390
        },
        "outputId": "24db1bd7-97fb-415b-f9f8-964cdf9e7369"
      },
      "source": [
        "batch_size = 128\n",
        "nb_epochs = 10\n",
        "history = model.fit(x_train_data, y_train_data,\n",
        "                    batch_size=batch_size,\n",
        "                    epochs=nb_epochs, \n",
        "                    validation_data=None,\n",
        "                    initial_epoch=0)"
      ],
      "execution_count": 49,
      "outputs": [
        {
          "output_type": "stream",
          "text": [
            "Epoch 1/10\n",
            "  2/469 [..............................] - ETA: 2:22 - loss: 0.1613 - accuracy: 0.9258WARNING:tensorflow:Callbacks method `on_train_batch_end` is slow compared to the batch time (batch time: 0.1216s vs `on_train_batch_end` time: 0.2271s). Check your callbacks.\n",
            "469/469 [==============================] - 158s 336ms/step - loss: 0.1311 - accuracy: 0.9524\n",
            "Epoch 2/10\n",
            "469/469 [==============================] - 157s 336ms/step - loss: 0.1036 - accuracy: 0.9623\n",
            "Epoch 3/10\n",
            "469/469 [==============================] - 157s 336ms/step - loss: 0.0809 - accuracy: 0.9703\n",
            "Epoch 4/10\n",
            "469/469 [==============================] - 157s 335ms/step - loss: 0.0672 - accuracy: 0.9753\n",
            "Epoch 5/10\n",
            "469/469 [==============================] - 157s 335ms/step - loss: 0.0523 - accuracy: 0.9810\n",
            "Epoch 6/10\n",
            "469/469 [==============================] - 157s 335ms/step - loss: 0.0417 - accuracy: 0.9848\n",
            "Epoch 7/10\n",
            "469/469 [==============================] - 157s 335ms/step - loss: 0.0432 - accuracy: 0.9849\n",
            "Epoch 8/10\n",
            "469/469 [==============================] - 157s 335ms/step - loss: 0.0230 - accuracy: 0.9921\n",
            "Epoch 9/10\n",
            "469/469 [==============================] - 157s 335ms/step - loss: 0.0249 - accuracy: 0.9909\n",
            "Epoch 10/10\n",
            "469/469 [==============================] - 157s 335ms/step - loss: 0.0299 - accuracy: 0.9892\n"
          ],
          "name": "stdout"
        }
      ]
    },
    {
      "cell_type": "code",
      "metadata": {
        "id": "YQXZsTq1IBeN",
        "colab_type": "code",
        "colab": {}
      },
      "source": [
        "y_pred = model.predict_classes(x_test_data)"
      ],
      "execution_count": 50,
      "outputs": []
    },
    {
      "cell_type": "code",
      "metadata": {
        "id": "3eyvgua2JDt1",
        "colab_type": "code",
        "colab": {}
      },
      "source": [
        "preds = pd.DataFrame(data=y_pred ,columns=[\"label\"])"
      ],
      "execution_count": 51,
      "outputs": []
    },
    {
      "cell_type": "code",
      "metadata": {
        "id": "Ou5U4lHzJKOv",
        "colab_type": "code",
        "colab": {}
      },
      "source": [
        "DT = pd.merge(sub , preds, on=None, left_index= True,\n",
        "    right_index=True)"
      ],
      "execution_count": 52,
      "outputs": []
    },
    {
      "cell_type": "code",
      "metadata": {
        "id": "w_VUOdJnJXjb",
        "colab_type": "code",
        "colab": {}
      },
      "source": [
        "DT.to_csv('submission_F.csv',index = False)"
      ],
      "execution_count": 53,
      "outputs": []
    },
    {
      "cell_type": "code",
      "metadata": {
        "id": "ZIZ8xufWJfZ1",
        "colab_type": "code",
        "colab": {}
      },
      "source": [
        "!cp submission_F.csv \"drive/My Drive/\""
      ],
      "execution_count": 54,
      "outputs": []
    },
    {
      "cell_type": "markdown",
      "metadata": {
        "id": "PFpl9mYrQ_yz",
        "colab_type": "text"
      },
      "source": [
        "#### Gives 92.5 % test accuracy"
      ]
    }
  ]
}