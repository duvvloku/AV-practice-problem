{
  "nbformat": 4,
  "nbformat_minor": 0,
  "metadata": {
    "colab": {
      "name": "Fashion.ipynb",
      "provenance": []
    },
    "kernelspec": {
      "name": "python3",
      "display_name": "Python 3"
    },
    "accelerator": "GPU"
  },
  "cells": [
    {
      "cell_type": "code",
      "metadata": {
        "id": "wouSxUoWltw_",
        "colab_type": "code",
        "colab": {}
      },
      "source": [
        "import numpy as np\n",
        "import pandas as pd"
      ],
      "execution_count": null,
      "outputs": []
    },
    {
      "cell_type": "code",
      "metadata": {
        "id": "w_QFjbf_lt9W",
        "colab_type": "code",
        "colab": {}
      },
      "source": [
        "project_path = '/content/drive/My Drive/HAX/Fashion'"
      ],
      "execution_count": null,
      "outputs": []
    },
    {
      "cell_type": "code",
      "metadata": {
        "id": "I66RbJpCluAu",
        "colab_type": "code",
        "colab": {}
      },
      "source": [
        "test_zip_path = project_path + '/test_ScVgIM0.zip'\n",
        "train_zip_path = project_path + '/train_LbELtWX.zip'"
      ],
      "execution_count": null,
      "outputs": []
    },
    {
      "cell_type": "code",
      "metadata": {
        "id": "dR4pkwymm2rI",
        "colab_type": "code",
        "colab": {
          "base_uri": "https://localhost:8080/",
          "height": 50
        },
        "outputId": "b1ba6c87-8b17-4bbb-f381-7d344eaeb432"
      },
      "source": [
        "from zipfile import ZipFile\n",
        "\n",
        "with ZipFile(train_zip_path, 'r') as z:\n",
        "  z.extractall()\n",
        "print(\"Training zip extraction done!\")\n",
        "\n",
        "with ZipFile(test_zip_path, 'r') as z:\n",
        "  z.extractall()\n",
        "print(\"Validation zip extraction done!\")"
      ],
      "execution_count": null,
      "outputs": [
        {
          "output_type": "stream",
          "text": [
            "Training zip extraction done!\n",
            "Validation zip extraction done!\n"
          ],
          "name": "stdout"
        }
      ]
    },
    {
      "cell_type": "code",
      "metadata": {
        "id": "eUwDWICTpR9k",
        "colab_type": "code",
        "colab": {
          "base_uri": "https://localhost:8080/",
          "height": 67
        },
        "outputId": "82092803-0a2e-4d3f-d879-f3806930643e"
      },
      "source": [
        "!ls"
      ],
      "execution_count": null,
      "outputs": [
        {
          "output_type": "stream",
          "text": [
            "drive\t     sub11.csv\tsub3.csv  sub6.csv  sub9.csv\t test.csv\n",
            "sample_data  sub1.csv\tsub4.csv  sub7.csv  sub_sup.csv  train\n",
            "sub10.csv    sub2.csv\tsub5.csv  sub8.csv  test\t train.csv\n"
          ],
          "name": "stdout"
        }
      ]
    },
    {
      "cell_type": "code",
      "metadata": {
        "id": "JFAmPCsZpa2V",
        "colab_type": "code",
        "colab": {
          "base_uri": "https://localhost:8080/",
          "height": 195
        },
        "outputId": "9f883c77-e197-4afd-f745-2c25beb03699"
      },
      "source": [
        "import pandas as pd\n",
        "labels = pd.read_csv('./train.csv')\n",
        "labels.head()"
      ],
      "execution_count": null,
      "outputs": [
        {
          "output_type": "execute_result",
          "data": {
            "text/html": [
              "<div>\n",
              "<style scoped>\n",
              "    .dataframe tbody tr th:only-of-type {\n",
              "        vertical-align: middle;\n",
              "    }\n",
              "\n",
              "    .dataframe tbody tr th {\n",
              "        vertical-align: top;\n",
              "    }\n",
              "\n",
              "    .dataframe thead th {\n",
              "        text-align: right;\n",
              "    }\n",
              "</style>\n",
              "<table border=\"1\" class=\"dataframe\">\n",
              "  <thead>\n",
              "    <tr style=\"text-align: right;\">\n",
              "      <th></th>\n",
              "      <th>id</th>\n",
              "      <th>label</th>\n",
              "    </tr>\n",
              "  </thead>\n",
              "  <tbody>\n",
              "    <tr>\n",
              "      <th>0</th>\n",
              "      <td>1</td>\n",
              "      <td>9</td>\n",
              "    </tr>\n",
              "    <tr>\n",
              "      <th>1</th>\n",
              "      <td>2</td>\n",
              "      <td>0</td>\n",
              "    </tr>\n",
              "    <tr>\n",
              "      <th>2</th>\n",
              "      <td>3</td>\n",
              "      <td>0</td>\n",
              "    </tr>\n",
              "    <tr>\n",
              "      <th>3</th>\n",
              "      <td>4</td>\n",
              "      <td>3</td>\n",
              "    </tr>\n",
              "    <tr>\n",
              "      <th>4</th>\n",
              "      <td>5</td>\n",
              "      <td>0</td>\n",
              "    </tr>\n",
              "  </tbody>\n",
              "</table>\n",
              "</div>"
            ],
            "text/plain": [
              "   id  label\n",
              "0   1      9\n",
              "1   2      0\n",
              "2   3      0\n",
              "3   4      3\n",
              "4   5      0"
            ]
          },
          "metadata": {
            "tags": []
          },
          "execution_count": 6
        }
      ]
    },
    {
      "cell_type": "code",
      "metadata": {
        "id": "EJRO2VpCpfvy",
        "colab_type": "code",
        "colab": {}
      },
      "source": [
        "import numpy as np\n",
        "targets = pd.Series(labels['label'])\n",
        "one_hot = pd.get_dummies(targets)\n",
        "one_hot_labels = np.asarray(one_hot)"
      ],
      "execution_count": null,
      "outputs": []
    },
    {
      "cell_type": "code",
      "metadata": {
        "id": "aFfiSix_pmRC",
        "colab_type": "code",
        "colab": {
          "base_uri": "https://localhost:8080/",
          "height": 34
        },
        "outputId": "01bc4592-de81-4126-a938-f0a57d6212f7"
      },
      "source": [
        "img_rows=28\n",
        "img_cols=28\n",
        "num_channel=1\n",
        "from tqdm import tqdm\n",
        "import cv2\n",
        "x_feature = []\n",
        "y_feature = []\n",
        "\n",
        "i = 0 # initialisation\n",
        "for f, img in tqdm(labels.values): # f for format ,jpg\n",
        "    train_img = cv2.imread('./train/{}.png'.format(f),0)\n",
        "    label = one_hot_labels[i]\n",
        "    train_img_resize = cv2.resize(train_img, (img_rows, img_cols)) \n",
        "    x_feature.append(train_img_resize)\n",
        "    y_feature.append(label)\n",
        "    i += 1"
      ],
      "execution_count": null,
      "outputs": [
        {
          "output_type": "stream",
          "text": [
            "100%|██████████| 60000/60000 [00:03<00:00, 15120.37it/s]\n"
          ],
          "name": "stderr"
        }
      ]
    },
    {
      "cell_type": "code",
      "metadata": {
        "id": "ED9UrZSSptoL",
        "colab_type": "code",
        "colab": {
          "base_uri": "https://localhost:8080/",
          "height": 67
        },
        "outputId": "c6e9a33e-e5f7-44fa-af23-81e51b5db9cd"
      },
      "source": [
        "x_train_data = np.array(x_feature, np.float32) / 255.   # /= 255 for normolisation\n",
        "print (x_train_data.shape)\n",
        "x_train_data = np.expand_dims(x_train_data, axis = 3) # for keras to given input to Conv2D layer\n",
        "print (x_train_data.shape)\n",
        "y_train_data = np.array(y_feature)\n",
        "print(y_train_data.shape)"
      ],
      "execution_count": null,
      "outputs": [
        {
          "output_type": "stream",
          "text": [
            "(60000, 28, 28)\n",
            "(60000, 28, 28, 1)\n",
            "(60000, 10)\n"
          ],
          "name": "stdout"
        }
      ]
    },
    {
      "cell_type": "code",
      "metadata": {
        "id": "FAyWT33Yp_Q4",
        "colab_type": "code",
        "colab": {
          "base_uri": "https://localhost:8080/",
          "height": 195
        },
        "outputId": "62483741-8992-443d-defa-d5d8a4ffae06"
      },
      "source": [
        "submission = pd.read_csv('test.csv')\n",
        "test_img = submission['id']\n",
        "submission.head()"
      ],
      "execution_count": null,
      "outputs": [
        {
          "output_type": "execute_result",
          "data": {
            "text/html": [
              "<div>\n",
              "<style scoped>\n",
              "    .dataframe tbody tr th:only-of-type {\n",
              "        vertical-align: middle;\n",
              "    }\n",
              "\n",
              "    .dataframe tbody tr th {\n",
              "        vertical-align: top;\n",
              "    }\n",
              "\n",
              "    .dataframe thead th {\n",
              "        text-align: right;\n",
              "    }\n",
              "</style>\n",
              "<table border=\"1\" class=\"dataframe\">\n",
              "  <thead>\n",
              "    <tr style=\"text-align: right;\">\n",
              "      <th></th>\n",
              "      <th>id</th>\n",
              "    </tr>\n",
              "  </thead>\n",
              "  <tbody>\n",
              "    <tr>\n",
              "      <th>0</th>\n",
              "      <td>60001</td>\n",
              "    </tr>\n",
              "    <tr>\n",
              "      <th>1</th>\n",
              "      <td>60002</td>\n",
              "    </tr>\n",
              "    <tr>\n",
              "      <th>2</th>\n",
              "      <td>60003</td>\n",
              "    </tr>\n",
              "    <tr>\n",
              "      <th>3</th>\n",
              "      <td>60004</td>\n",
              "    </tr>\n",
              "    <tr>\n",
              "      <th>4</th>\n",
              "      <td>60005</td>\n",
              "    </tr>\n",
              "  </tbody>\n",
              "</table>\n",
              "</div>"
            ],
            "text/plain": [
              "      id\n",
              "0  60001\n",
              "1  60002\n",
              "2  60003\n",
              "3  60004\n",
              "4  60005"
            ]
          },
          "metadata": {
            "tags": []
          },
          "execution_count": 10
        }
      ]
    },
    {
      "cell_type": "code",
      "metadata": {
        "id": "2qebtJvMqGgq",
        "colab_type": "code",
        "colab": {
          "base_uri": "https://localhost:8080/",
          "height": 34
        },
        "outputId": "d8110471-a5d1-413c-f0bd-4b3ae81fcda8"
      },
      "source": [
        "x_test_feature = []\n",
        "\n",
        "i = 0 # initialisation\n",
        "for f in tqdm(test_img.values): # f for format ,jpg\n",
        "    img = cv2.imread('./test/{}.png'.format(f), 0)\n",
        "    img_resize = cv2.resize(img, (img_rows, img_cols)) \n",
        "    x_test_feature.append(img_resize)"
      ],
      "execution_count": null,
      "outputs": [
        {
          "output_type": "stream",
          "text": [
            "100%|██████████| 10000/10000 [00:00<00:00, 15991.27it/s]\n"
          ],
          "name": "stderr"
        }
      ]
    },
    {
      "cell_type": "code",
      "metadata": {
        "id": "_MIvf6YOqOxo",
        "colab_type": "code",
        "colab": {
          "base_uri": "https://localhost:8080/",
          "height": 50
        },
        "outputId": "4926e1c5-c780-46f2-84d2-67d9d19503ce"
      },
      "source": [
        "x_test_data = np.array(x_test_feature, np.float32) / 255. \n",
        "print (x_test_data.shape)\n",
        "x_test_data = np.expand_dims(x_test_data, axis = 3)\n",
        "print (x_test_data.shape)"
      ],
      "execution_count": null,
      "outputs": [
        {
          "output_type": "stream",
          "text": [
            "(10000, 28, 28)\n",
            "(10000, 28, 28, 1)\n"
          ],
          "name": "stdout"
        }
      ]
    },
    {
      "cell_type": "code",
      "metadata": {
        "id": "Q42vzMJErOUW",
        "colab_type": "code",
        "colab": {}
      },
      "source": [
        "import tensorflow as tf"
      ],
      "execution_count": null,
      "outputs": []
    },
    {
      "cell_type": "code",
      "metadata": {
        "id": "SZHT0FMvar9Q",
        "colab_type": "code",
        "colab": {}
      },
      "source": [
        "def squeeze_excite_block(filters,input):                      \n",
        "    se = tf.keras.layers.GlobalAveragePooling2D()(input)\n",
        "    se = tf.keras.layers.Reshape((1, filters))(se) \n",
        "    se = tf.keras.layers.Dense(filters//16, activation='relu')(se)\n",
        "    se = tf.keras.layers.Dense(filters, activation='sigmoid')(se)\n",
        "    se = tf.keras.layers.multiply([input, se])\n",
        "    return se"
      ],
      "execution_count": null,
      "outputs": []
    },
    {
      "cell_type": "code",
      "metadata": {
        "id": "CcNRLwX9avNU",
        "colab_type": "code",
        "colab": {}
      },
      "source": [
        "def make_model():\n",
        "        s = tf.keras.Input(shape=x_train_data.shape[1:]) \n",
        "        x = tf.keras.layers.Conv2D(32,(3,3),activation='relu',padding='same')(s)\n",
        "        x = tf.keras.layers.Conv2D(32,(3,3),activation='relu',padding='same')(x)\n",
        "        x = tf.keras.layers.Conv2D(32,(3,3),activation='relu',padding='same')(x)\n",
        "        x = tf.keras.layers.BatchNormalization()(x)\n",
        "        x = squeeze_excite_block(32,x)\n",
        "\n",
        "        x = tf.keras.layers.Conv2D(32,(3,3),activation='relu',padding='same')(x)\n",
        "        x = tf.keras.layers.Conv2D(32,(3,3),activation='relu',padding='same')(x)\n",
        "        x = tf.keras.layers.Conv2D(32,(3,3),activation='relu',padding='same')(x)\n",
        "        x = tf.keras.layers.BatchNormalization()(x)\n",
        "        x = squeeze_excite_block(32,x)\n",
        "        x = tf.keras.layers.AveragePooling2D(2)(x)\n",
        "\n",
        "        x = tf.keras.layers.Conv2D(32,(3,3),activation='relu',padding='same')(x)\n",
        "        x = tf.keras.layers.Conv2D(32,(3,3),activation='relu',padding='same')(x)\n",
        "        x = tf.keras.layers.Conv2D(32,(3,3),activation='relu',padding='same')(x)\n",
        "        x = tf.keras.layers.BatchNormalization()(x)\n",
        "        x = squeeze_excite_block(32,x)\n",
        "        x = tf.keras.layers.AveragePooling2D(2)(x)\n",
        "\n",
        "        x = tf.keras.layers.Conv2D(32,(3,3),activation='relu',padding='same')(x)\n",
        "        x = tf.keras.layers.Conv2D(32,(3,3),activation='relu',padding='same')(x)\n",
        "        x = tf.keras.layers.Conv2D(32,(3,3),activation='relu',padding='same')(x)\n",
        "        x = tf.keras.layers.BatchNormalization()(x)\n",
        "        x = squeeze_excite_block(32,x)\n",
        "        x = tf.keras.layers.AveragePooling2D(2)(x)          \n",
        "\n",
        "\n",
        "        x = tf.keras.layers.Conv2D(32,(3,3),activation='relu',padding='same')(x)\n",
        "        x = tf.keras.layers.Conv2D(32,(3,3),activation='relu',padding='same')(x)\n",
        "        x = tf.keras.layers.Conv2D(32,(3,3),activation='relu',padding='same')(x)\n",
        "        x = tf.keras.layers.BatchNormalization()(x)\n",
        "        x = squeeze_excite_block(32,x)\n",
        "        x = tf.keras.layers.AveragePooling2D(2)(x)\n",
        "\n",
        "\n",
        "        x = tf.keras.layers.concatenate([tf.keras.layers.GlobalMaxPooling2D()(x),\n",
        "                                         tf.keras.layers.GlobalAveragePooling2D()(x)])\n",
        "\n",
        "        x = tf.keras.layers.Dense(10,activation='softmax',use_bias=False,\n",
        "                                  kernel_regularizer=tf.keras.regularizers.l1(0.00025))(x)\n",
        "        return tf.keras.Model(inputs=s, outputs=x)"
      ],
      "execution_count": null,
      "outputs": []
    },
    {
      "cell_type": "code",
      "metadata": {
        "id": "-D_3I2anY5fO",
        "colab_type": "code",
        "colab": {}
      },
      "source": [
        "datagen = tf.keras.preprocessing.image.ImageDataGenerator(rotation_range=10, width_shift_range=0.1, shear_range=10,\n",
        "                        height_shift_range=0.1, zoom_range=0.2)\n",
        "datagen.fit(x_train_data)"
      ],
      "execution_count": null,
      "outputs": []
    },
    {
      "cell_type": "code",
      "metadata": {
        "id": "ahoMcLtzbQZb",
        "colab_type": "code",
        "colab": {
          "base_uri": "https://localhost:8080/",
          "height": 67
        },
        "outputId": "c9c835d9-3677-4518-c614-fbc0bd467e13"
      },
      "source": [
        "from tensorflow.keras import optimizers\n",
        "batch_size=32\n",
        "supermodel=[]\n",
        "for i in range(5):\n",
        "        np.random.seed(i)\n",
        "        model=make_model()                \n",
        "        model.compile(optimizer=optimizers.Adam(lr=0.001), loss='categorical_crossentropy',metrics=['accuracy'])\n",
        "        model.fit_generator(datagen.flow(x_train_data, y_train_data, batch_size=batch_size,shuffle=True),\n",
        "                    steps_per_epoch=len(x_train_data) / batch_size, epochs=15,verbose=0)\n",
        "        model.compile(optimizer=optimizers.Adam(lr=0.0001), loss='categorical_crossentropy',metrics=['accuracy'])\n",
        "        model.fit_generator(datagen.flow(x_train_data, y_train_data, batch_size=batch_size,shuffle=True),\n",
        "                    steps_per_epoch=len(x_train_data) / batch_size, epochs=3,verbose=0)\n",
        "        model.compile(optimizer=optimizers.Adam(lr=0.00001), loss='categorical_crossentropy',metrics=['accuracy'])\n",
        "        model.fit_generator(datagen.flow(x_train_data, y_train_data, batch_size=batch_size,shuffle=True),\n",
        "                    steps_per_epoch=len(x_train_data) / batch_size, epochs=3,verbose=0)\n",
        "        model.fit(x_train_data, y_train_data, batch_size=batch_size,shuffle=True, epochs=1,verbose=0)\n",
        "        supermodel.append(model)"
      ],
      "execution_count": null,
      "outputs": [
        {
          "output_type": "stream",
          "text": [
            "WARNING:tensorflow:From <ipython-input-17-131fc689266e>:9: Model.fit_generator (from tensorflow.python.keras.engine.training) is deprecated and will be removed in a future version.\n",
            "Instructions for updating:\n",
            "Please use Model.fit, which supports generators.\n"
          ],
          "name": "stdout"
        }
      ]
    },
    {
      "cell_type": "code",
      "metadata": {
        "id": "pt27WqqCbgJ0",
        "colab_type": "code",
        "colab": {}
      },
      "source": [
        "pred =np.asarray([a.predict(x_test_data) for a in supermodel])\n",
        "predictions = np.argmax(np.mean(pred,axis=0),axis=1)"
      ],
      "execution_count": null,
      "outputs": []
    },
    {
      "cell_type": "code",
      "metadata": {
        "id": "wqLw9VQHtW8d",
        "colab_type": "code",
        "colab": {}
      },
      "source": [
        "predict = pd.DataFrame(data=predictions ,columns=[\"label\"])"
      ],
      "execution_count": null,
      "outputs": []
    },
    {
      "cell_type": "code",
      "metadata": {
        "id": "T9XpcQiswNr4",
        "colab_type": "code",
        "colab": {}
      },
      "source": [
        "submission = pd.read_csv('/content/drive/My Drive/HAX/Fashion/sample_submission_I5njJSF.csv')\n",
        "sub = submission['id']\n",
        "DT = pd.merge(sub , predict, on=None, left_index= True,\n",
        "    right_index=True)"
      ],
      "execution_count": null,
      "outputs": []
    },
    {
      "cell_type": "code",
      "metadata": {
        "id": "UTpKecF-ws_5",
        "colab_type": "code",
        "colab": {}
      },
      "source": [
        "DT.to_csv('sub_sup1.csv',index = False)"
      ],
      "execution_count": null,
      "outputs": []
    },
    {
      "cell_type": "code",
      "metadata": {
        "id": "5RQ-sxLtwzNz",
        "colab_type": "code",
        "colab": {}
      },
      "source": [
        "!cp sub_sup1.csv \"drive/My Drive/\""
      ],
      "execution_count": null,
      "outputs": []
    }
  ]
}