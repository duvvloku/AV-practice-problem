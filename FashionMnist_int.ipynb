{
  "nbformat": 4,
  "nbformat_minor": 0,
  "metadata": {
    "colab": {
      "name": "FashionMnist int.ipynb",
      "provenance": [],
      "collapsed_sections": []
    },
    "kernelspec": {
      "name": "python3",
      "display_name": "Python 3"
    },
    "accelerator": "GPU"
  },
  "cells": [
    {
      "cell_type": "code",
      "metadata": {
        "id": "h1X7GjVbYFSQ",
        "colab_type": "code",
        "colab": {
          "base_uri": "https://localhost:8080/",
          "height": 121
        },
        "outputId": "0c42e906-6eb0-4d75-b469-57eec8695547"
      },
      "source": [
        "from google.colab import drive\n",
        "drive.mount('/content/drive')"
      ],
      "execution_count": null,
      "outputs": [
        {
          "output_type": "stream",
          "text": [
            "Go to this URL in a browser: https://accounts.google.com/o/oauth2/auth?client_id=947318989803-6bn6qk8qdgf4n4g3pfee6491hc0brc4i.apps.googleusercontent.com&redirect_uri=urn%3aietf%3awg%3aoauth%3a2.0%3aoob&scope=email%20https%3a%2f%2fwww.googleapis.com%2fauth%2fdocs.test%20https%3a%2f%2fwww.googleapis.com%2fauth%2fdrive%20https%3a%2f%2fwww.googleapis.com%2fauth%2fdrive.photos.readonly%20https%3a%2f%2fwww.googleapis.com%2fauth%2fpeopleapi.readonly&response_type=code\n",
            "\n",
            "Enter your authorization code:\n",
            "··········\n",
            "Mounted at /content/drive\n"
          ],
          "name": "stdout"
        }
      ]
    },
    {
      "cell_type": "code",
      "metadata": {
        "id": "6v5MDJ_lQfWb",
        "colab_type": "code",
        "colab": {}
      },
      "source": [
        "project_path = '/content/drive/My Drive/HAX/'"
      ],
      "execution_count": null,
      "outputs": []
    },
    {
      "cell_type": "code",
      "metadata": {
        "id": "ghV0OaEgXn5P",
        "colab_type": "code",
        "colab": {}
      },
      "source": [
        "test_zip_path = project_path + 'test_ScVgIM0.zip'\n",
        "train_zip_path = project_path + 'train_LbELtWX.zip'"
      ],
      "execution_count": null,
      "outputs": []
    },
    {
      "cell_type": "code",
      "metadata": {
        "id": "b2UNwPfGCRnX",
        "colab_type": "code",
        "colab": {
          "base_uri": "https://localhost:8080/",
          "height": 50
        },
        "outputId": "016d3400-cd20-4aa0-e890-0d8fb0089d4b"
      },
      "source": [
        "from zipfile import ZipFile\n",
        "\n",
        "with ZipFile(train_zip_path, 'r') as z:\n",
        "  z.extractall()\n",
        "print(\"Training zip extraction done!\")\n",
        "\n",
        "with ZipFile(test_zip_path, 'r') as z:\n",
        "  z.extractall()\n",
        "print(\"Validation zip extraction done!\")"
      ],
      "execution_count": null,
      "outputs": [
        {
          "output_type": "stream",
          "text": [
            "Training zip extraction done!\n",
            "Validation zip extraction done!\n"
          ],
          "name": "stdout"
        }
      ]
    },
    {
      "cell_type": "code",
      "metadata": {
        "id": "zHuSWkQLCcOr",
        "colab_type": "code",
        "colab": {
          "base_uri": "https://localhost:8080/",
          "height": 195
        },
        "outputId": "eaca5b35-4015-4d64-87a3-10c851e9129d"
      },
      "source": [
        "import pandas as pd\n",
        "labels = pd.read_csv('./train.csv')\n",
        "labels.head()"
      ],
      "execution_count": null,
      "outputs": [
        {
          "output_type": "execute_result",
          "data": {
            "text/html": [
              "<div>\n",
              "<style scoped>\n",
              "    .dataframe tbody tr th:only-of-type {\n",
              "        vertical-align: middle;\n",
              "    }\n",
              "\n",
              "    .dataframe tbody tr th {\n",
              "        vertical-align: top;\n",
              "    }\n",
              "\n",
              "    .dataframe thead th {\n",
              "        text-align: right;\n",
              "    }\n",
              "</style>\n",
              "<table border=\"1\" class=\"dataframe\">\n",
              "  <thead>\n",
              "    <tr style=\"text-align: right;\">\n",
              "      <th></th>\n",
              "      <th>id</th>\n",
              "      <th>label</th>\n",
              "    </tr>\n",
              "  </thead>\n",
              "  <tbody>\n",
              "    <tr>\n",
              "      <th>0</th>\n",
              "      <td>1</td>\n",
              "      <td>9</td>\n",
              "    </tr>\n",
              "    <tr>\n",
              "      <th>1</th>\n",
              "      <td>2</td>\n",
              "      <td>0</td>\n",
              "    </tr>\n",
              "    <tr>\n",
              "      <th>2</th>\n",
              "      <td>3</td>\n",
              "      <td>0</td>\n",
              "    </tr>\n",
              "    <tr>\n",
              "      <th>3</th>\n",
              "      <td>4</td>\n",
              "      <td>3</td>\n",
              "    </tr>\n",
              "    <tr>\n",
              "      <th>4</th>\n",
              "      <td>5</td>\n",
              "      <td>0</td>\n",
              "    </tr>\n",
              "  </tbody>\n",
              "</table>\n",
              "</div>"
            ],
            "text/plain": [
              "   id  label\n",
              "0   1      9\n",
              "1   2      0\n",
              "2   3      0\n",
              "3   4      3\n",
              "4   5      0"
            ]
          },
          "metadata": {
            "tags": []
          },
          "execution_count": 43
        }
      ]
    },
    {
      "cell_type": "code",
      "metadata": {
        "id": "iYkG_CeAaO-h",
        "colab_type": "code",
        "colab": {}
      },
      "source": [
        "import numpy as np\n",
        "targets = pd.Series(labels['label'])\n",
        "one_hot = pd.get_dummies(targets)\n",
        "one_hot_labels = np.asarray(one_hot)"
      ],
      "execution_count": null,
      "outputs": []
    },
    {
      "cell_type": "markdown",
      "metadata": {
        "id": "u05sHfPkW6z6",
        "colab_type": "text"
      },
      "source": [
        "# IN ORIGINAL DIMENSIONS (28 *28)"
      ]
    },
    {
      "cell_type": "code",
      "metadata": {
        "id": "uCg0KJe8TjJA",
        "colab_type": "code",
        "colab": {
          "base_uri": "https://localhost:8080/",
          "height": 1000
        },
        "outputId": "944c6bc4-1a07-49ec-cefd-94f4dbbaaf1b"
      },
      "source": [
        "img_rows=28\n",
        "img_cols=28\n",
        "num_channel=1\n",
        "from tqdm import tqdm\n",
        "import cv2\n",
        "x_feature = []\n",
        "y_feature = []\n",
        "\n",
        "i = 0 # initialisation\n",
        "for f, img in tqdm(labels.values): # f for format ,jpg\n",
        "    train_img = cv2.imread('./train/{}.png'.format(f),0)\n",
        "    label = one_hot_labels[i]\n",
        "    train_img_resize = cv2.resize(train_img, (img_rows, img_cols)) \n",
        "    x_feature.append(train_img_resize)\n",
        "    y_feature.append(label)\n",
        "    i += 1"
      ],
      "execution_count": null,
      "outputs": [
        {
          "output_type": "stream",
          "text": [
            "\n",
            "\n",
            "  0%|          | 0/60000 [00:00<?, ?it/s]\u001b[A\u001b[A\n",
            "\n",
            "  1%|▏         | 796/60000 [00:00<00:07, 7959.93it/s]\u001b[A\u001b[A\n",
            "\n",
            "  3%|▎         | 1892/60000 [00:00<00:06, 8671.90it/s]\u001b[A\u001b[A\n",
            "\n",
            "  5%|▌         | 3056/60000 [00:00<00:06, 9388.83it/s]\u001b[A\u001b[A\n",
            "\n",
            "  7%|▋         | 4168/60000 [00:00<00:05, 9847.69it/s]\u001b[A\u001b[A\n",
            "\n",
            "  9%|▉         | 5362/60000 [00:00<00:05, 10393.35it/s]\u001b[A\u001b[A\n",
            "\n",
            " 11%|█         | 6572/60000 [00:00<00:04, 10849.90it/s]\u001b[A\u001b[A\n",
            "\n",
            " 13%|█▎        | 7794/60000 [00:00<00:04, 11224.39it/s]\u001b[A\u001b[A\n",
            "\n",
            " 15%|█▍        | 8987/60000 [00:00<00:04, 11426.50it/s]\u001b[A\u001b[A\n",
            "\n",
            " 17%|█▋        | 10149/60000 [00:00<00:04, 11482.75it/s]\u001b[A\u001b[A\n",
            "\n",
            " 19%|█▉        | 11285/60000 [00:01<00:04, 11445.31it/s]\u001b[A\u001b[A\n",
            "\n",
            " 21%|██        | 12454/60000 [00:01<00:04, 11515.76it/s]\u001b[A\u001b[A\n",
            "\n",
            " 23%|██▎       | 13624/60000 [00:01<00:04, 11569.66it/s]\u001b[A\u001b[A\n",
            "\n",
            " 25%|██▍       | 14816/60000 [00:01<00:03, 11670.68it/s]\u001b[A\u001b[A\n",
            "\n",
            " 27%|██▋       | 15979/60000 [00:01<00:03, 11473.82it/s]\u001b[A\u001b[A\n",
            "\n",
            " 29%|██▊       | 17124/60000 [00:01<00:03, 11334.49it/s]\u001b[A\u001b[A\n",
            "\n",
            " 30%|███       | 18256/60000 [00:01<00:03, 11291.62it/s]\u001b[A\u001b[A\n",
            "\n",
            " 32%|███▏      | 19414/60000 [00:01<00:03, 11375.98it/s]\u001b[A\u001b[A\n",
            "\n",
            " 34%|███▍      | 20555/60000 [00:01<00:03, 11384.31it/s]\u001b[A\u001b[A\n",
            "\n",
            " 36%|███▌      | 21706/60000 [00:01<00:03, 11420.41it/s]\u001b[A\u001b[A\n",
            "\n",
            " 38%|███▊      | 22848/60000 [00:02<00:03, 10945.31it/s]\u001b[A\u001b[A\n",
            "\n",
            " 40%|███▉      | 23947/60000 [00:02<00:03, 10936.13it/s]\u001b[A\u001b[A\n",
            "\n",
            " 42%|████▏     | 25044/60000 [00:02<00:03, 10541.01it/s]\u001b[A\u001b[A\n",
            "\n",
            " 44%|████▎     | 26155/60000 [00:02<00:03, 10704.19it/s]\u001b[A\u001b[A\n",
            "\n",
            " 45%|████▌     | 27262/60000 [00:02<00:03, 10811.17it/s]\u001b[A\u001b[A\n",
            "\n",
            " 47%|████▋     | 28347/60000 [00:02<00:02, 10563.48it/s]\u001b[A\u001b[A\n",
            "\n",
            " 49%|████▉     | 29466/60000 [00:02<00:02, 10743.41it/s]\u001b[A\u001b[A\n",
            "\n",
            " 51%|█████     | 30677/60000 [00:02<00:02, 11117.28it/s]\u001b[A\u001b[A\n",
            "\n",
            " 53%|█████▎    | 31822/60000 [00:02<00:02, 11214.46it/s]\u001b[A\u001b[A\n",
            "\n",
            " 55%|█████▍    | 32948/60000 [00:02<00:02, 11154.30it/s]\u001b[A\u001b[A\n",
            "\n",
            " 57%|█████▋    | 34067/60000 [00:03<00:02, 11024.27it/s]\u001b[A\u001b[A\n",
            "\n",
            " 59%|█████▊    | 35226/60000 [00:03<00:02, 11187.25it/s]\u001b[A\u001b[A\n",
            "\n",
            " 61%|██████    | 36373/60000 [00:03<00:02, 11270.29it/s]\u001b[A\u001b[A\n",
            "\n",
            " 63%|██████▎   | 37519/60000 [00:03<00:01, 11326.20it/s]\u001b[A\u001b[A\n",
            "\n",
            " 64%|██████▍   | 38653/60000 [00:03<00:01, 11224.94it/s]\u001b[A\u001b[A\n",
            "\n",
            " 66%|██████▋   | 39799/60000 [00:03<00:01, 11290.01it/s]\u001b[A\u001b[A\n",
            "\n",
            " 68%|██████▊   | 41015/60000 [00:03<00:01, 11534.78it/s]\u001b[A\u001b[A\n",
            "\n",
            " 70%|███████   | 42207/60000 [00:03<00:01, 11647.16it/s]\u001b[A\u001b[A\n",
            "\n",
            " 72%|███████▏  | 43374/60000 [00:03<00:01, 11537.17it/s]\u001b[A\u001b[A\n",
            "\n",
            " 74%|███████▍  | 44530/60000 [00:03<00:01, 11384.82it/s]\u001b[A\u001b[A\n",
            "\n",
            " 76%|███████▌  | 45670/60000 [00:04<00:01, 11356.35it/s]\u001b[A\u001b[A\n",
            "\n",
            " 78%|███████▊  | 46889/60000 [00:04<00:01, 11593.34it/s]\u001b[A\u001b[A\n",
            "\n",
            " 80%|████████  | 48055/60000 [00:04<00:01, 11612.63it/s]\u001b[A\u001b[A\n",
            "\n",
            " 82%|████████▏ | 49291/60000 [00:04<00:00, 11824.13it/s]\u001b[A\u001b[A\n",
            "\n",
            " 84%|████████▍ | 50476/60000 [00:04<00:00, 11572.25it/s]\u001b[A\u001b[A\n",
            "\n",
            " 86%|████████▌ | 51636/60000 [00:04<00:00, 10591.06it/s]\u001b[A\u001b[A\n",
            "\n",
            " 88%|████████▊ | 52714/60000 [00:04<00:00, 9816.98it/s] \u001b[A\u001b[A\n",
            "\n",
            " 90%|████████▉ | 53841/60000 [00:04<00:00, 10210.24it/s]\u001b[A\u001b[A\n",
            "\n",
            " 92%|█████████▏| 54942/60000 [00:04<00:00, 10436.78it/s]\u001b[A\u001b[A\n",
            "\n",
            " 94%|█████████▎| 56100/60000 [00:05<00:00, 10754.18it/s]\u001b[A\u001b[A\n",
            "\n",
            " 95%|█████████▌| 57219/60000 [00:05<00:00, 10880.87it/s]\u001b[A\u001b[A\n",
            "\n",
            " 97%|█████████▋| 58317/60000 [00:05<00:00, 10556.15it/s]\u001b[A\u001b[A\n",
            "\n",
            "100%|██████████| 60000/60000 [00:05<00:00, 11104.99it/s]\n"
          ],
          "name": "stderr"
        }
      ]
    },
    {
      "cell_type": "code",
      "metadata": {
        "id": "IrubDp7YalRO",
        "colab_type": "code",
        "colab": {
          "base_uri": "https://localhost:8080/",
          "height": 34
        },
        "outputId": "0f2142a2-52ac-4459-9715-2f339de073b1"
      },
      "source": [
        "x_train_data = np.array(x_feature, np.float32) / 255.   # /= 255 for normolisation\n",
        "print (x_train_data.shape)"
      ],
      "execution_count": null,
      "outputs": [
        {
          "output_type": "stream",
          "text": [
            "(60000, 28, 28)\n"
          ],
          "name": "stdout"
        }
      ]
    },
    {
      "cell_type": "code",
      "metadata": {
        "id": "CiF3MJw9aub4",
        "colab_type": "code",
        "colab": {
          "base_uri": "https://localhost:8080/",
          "height": 34
        },
        "outputId": "04a5971d-7b84-4571-d9df-143f90986977"
      },
      "source": [
        "x_train_data = np.expand_dims(x_train_data, axis = 3) # for keras to given input to Conv2D layer\n",
        "print (x_train_data.shape)"
      ],
      "execution_count": null,
      "outputs": [
        {
          "output_type": "stream",
          "text": [
            "(60000, 28, 28, 1)\n"
          ],
          "name": "stdout"
        }
      ]
    },
    {
      "cell_type": "code",
      "metadata": {
        "id": "40tEdjTmb73S",
        "colab_type": "code",
        "colab": {
          "base_uri": "https://localhost:8080/",
          "height": 34
        },
        "outputId": "a0bc3c5a-a0ab-42aa-903c-d88080a28675"
      },
      "source": [
        "y_train_data = np.array(y_feature)\n",
        "\n",
        "y_train_data.shape"
      ],
      "execution_count": null,
      "outputs": [
        {
          "output_type": "execute_result",
          "data": {
            "text/plain": [
              "(60000, 10)"
            ]
          },
          "metadata": {
            "tags": []
          },
          "execution_count": 53
        }
      ]
    },
    {
      "cell_type": "code",
      "metadata": {
        "id": "C9tBPBKWe3N0",
        "colab_type": "code",
        "colab": {
          "base_uri": "https://localhost:8080/",
          "height": 50
        },
        "outputId": "55d6e677-4485-42d0-d9b7-53b4a3eb2888"
      },
      "source": [
        "from sklearn.model_selection import train_test_split\n",
        "x_train, x_val, y_train, y_val = train_test_split(x_train_data, y_train_data, test_size=0.1, random_state=2)\n",
        "print (x_train.shape)\n",
        "print (x_val.shape)"
      ],
      "execution_count": null,
      "outputs": [
        {
          "output_type": "stream",
          "text": [
            "(54000, 28, 28, 1)\n",
            "(6000, 28, 28, 1)\n"
          ],
          "name": "stdout"
        }
      ]
    },
    {
      "cell_type": "code",
      "metadata": {
        "id": "6-oSjGEUf0rQ",
        "colab_type": "code",
        "colab": {
          "base_uri": "https://localhost:8080/",
          "height": 195
        },
        "outputId": "deb1eade-7cd9-49b1-ade1-65e2e6ff24f4"
      },
      "source": [
        "submission = pd.read_csv('test.csv')\n",
        "test_img = submission['id']\n",
        "submission.head()"
      ],
      "execution_count": null,
      "outputs": [
        {
          "output_type": "execute_result",
          "data": {
            "text/html": [
              "<div>\n",
              "<style scoped>\n",
              "    .dataframe tbody tr th:only-of-type {\n",
              "        vertical-align: middle;\n",
              "    }\n",
              "\n",
              "    .dataframe tbody tr th {\n",
              "        vertical-align: top;\n",
              "    }\n",
              "\n",
              "    .dataframe thead th {\n",
              "        text-align: right;\n",
              "    }\n",
              "</style>\n",
              "<table border=\"1\" class=\"dataframe\">\n",
              "  <thead>\n",
              "    <tr style=\"text-align: right;\">\n",
              "      <th></th>\n",
              "      <th>id</th>\n",
              "    </tr>\n",
              "  </thead>\n",
              "  <tbody>\n",
              "    <tr>\n",
              "      <th>0</th>\n",
              "      <td>60001</td>\n",
              "    </tr>\n",
              "    <tr>\n",
              "      <th>1</th>\n",
              "      <td>60002</td>\n",
              "    </tr>\n",
              "    <tr>\n",
              "      <th>2</th>\n",
              "      <td>60003</td>\n",
              "    </tr>\n",
              "    <tr>\n",
              "      <th>3</th>\n",
              "      <td>60004</td>\n",
              "    </tr>\n",
              "    <tr>\n",
              "      <th>4</th>\n",
              "      <td>60005</td>\n",
              "    </tr>\n",
              "  </tbody>\n",
              "</table>\n",
              "</div>"
            ],
            "text/plain": [
              "      id\n",
              "0  60001\n",
              "1  60002\n",
              "2  60003\n",
              "3  60004\n",
              "4  60005"
            ]
          },
          "metadata": {
            "tags": []
          },
          "execution_count": 49
        }
      ]
    },
    {
      "cell_type": "code",
      "metadata": {
        "id": "jFbRnl35f-dM",
        "colab_type": "code",
        "colab": {
          "base_uri": "https://localhost:8080/",
          "height": 336
        },
        "outputId": "3e5e79bf-37fe-4bee-ae6a-e919f549f8d3"
      },
      "source": [
        "x_test_feature = []\n",
        "\n",
        "i = 0 # initialisation\n",
        "for f in tqdm(test_img.values): # f for format ,jpg\n",
        "    img = cv2.imread('./test/{}.png'.format(f), 0)\n",
        "    img_resize = cv2.resize(img, (img_rows, img_cols)) \n",
        "    x_test_feature.append(img_resize)"
      ],
      "execution_count": null,
      "outputs": [
        {
          "output_type": "stream",
          "text": [
            "\n",
            "\n",
            "  0%|          | 0/10000 [00:00<?, ?it/s]\u001b[A\u001b[A\n",
            "\n",
            " 12%|█▏        | 1154/10000 [00:00<00:00, 11535.42it/s]\u001b[A\u001b[A\n",
            "\n",
            " 24%|██▍       | 2414/10000 [00:00<00:00, 11834.25it/s]\u001b[A\u001b[A\n",
            "\n",
            " 37%|███▋      | 3673/10000 [00:00<00:00, 12048.44it/s]\u001b[A\u001b[A\n",
            "\n",
            " 49%|████▉     | 4924/10000 [00:00<00:00, 12181.06it/s]\u001b[A\u001b[A\n",
            "\n",
            " 62%|██████▏   | 6156/10000 [00:00<00:00, 12220.85it/s]\u001b[A\u001b[A\n",
            "\n",
            " 74%|███████▎  | 7373/10000 [00:00<00:00, 12204.94it/s]\u001b[A\u001b[A\n",
            "\n",
            " 86%|████████▌ | 8598/10000 [00:00<00:00, 12217.30it/s]\u001b[A\u001b[A\n",
            "\n",
            "100%|██████████| 10000/10000 [00:00<00:00, 12120.41it/s]\n"
          ],
          "name": "stderr"
        }
      ]
    },
    {
      "cell_type": "code",
      "metadata": {
        "id": "S49uDtfjgZgz",
        "colab_type": "code",
        "colab": {
          "base_uri": "https://localhost:8080/",
          "height": 50
        },
        "outputId": "a95a9aad-d352-4bac-97fb-3dde3550f884"
      },
      "source": [
        "x_test_data = np.array(x_test_feature, np.float32) / 255. \n",
        "print (x_test_data.shape)\n",
        "x_test_data = np.expand_dims(x_test_data, axis = 3)\n",
        "print (x_test_data.shape)"
      ],
      "execution_count": null,
      "outputs": [
        {
          "output_type": "stream",
          "text": [
            "(10000, 28, 28)\n",
            "(10000, 28, 28, 1)\n"
          ],
          "name": "stdout"
        }
      ]
    },
    {
      "cell_type": "code",
      "metadata": {
        "id": "-flR6wfJgifw",
        "colab_type": "code",
        "colab": {}
      },
      "source": [
        "import tensorflow as tf\n",
        "from tensorflow import keras\n",
        "from tensorflow.keras import layers\n",
        "from tensorflow.keras.models import Sequential  # initial NN\n",
        "from tensorflow.keras.layers import Dense, Dropout # construct each layer\n",
        "from tensorflow.keras.layers import Conv2D # swipe across the image by 1\n",
        "from tensorflow.keras.layers import MaxPooling2D # swipe across by pool size\n",
        "from tensorflow.keras.layers import Flatten\n",
        "from tensorflow.keras.optimizers import Adam\n",
        "from tensorflow.keras.layers import ZeroPadding2D\n",
        "import pandas as pd"
      ],
      "execution_count": null,
      "outputs": []
    },
    {
      "cell_type": "code",
      "metadata": {
        "id": "BPkHP9tZiWyx",
        "colab_type": "code",
        "colab": {}
      },
      "source": [
        "model = Sequential()\n",
        "\n",
        "model.add(Conv2D(32, (5,5), activation ='relu', input_shape = (img_rows, img_cols, num_channel))) \n",
        "model.add(MaxPooling2D(pool_size=3))\n",
        "#model.add(Dropout(0.2))\n",
        "\n",
        "model.add(Conv2D(filters=64, kernel_size=4, padding='same', activation='relu'))\n",
        "model.add(MaxPooling2D(pool_size=2))\n",
        "#model.add(Dropout(0.2))\n",
        "\n",
        "model.add(Conv2D(filters=128, kernel_size=3, padding='same', activation='relu'))\n",
        "model.add(MaxPooling2D(pool_size=2))\n",
        "#model.add(Dropout(0.8))\n",
        "\n",
        "model.add(Conv2D(filters=128, kernel_size=2, padding='same', activation='relu'))\n",
        "model.add(MaxPooling2D(pool_size=2))\n",
        "#model.add(Dropout(0.8))\n",
        "\n",
        "model.add(Flatten()) \n",
        "# fully connected layer \n",
        "model.add(Dense(units = 256, activation = 'relu')) \n",
        "#model.add(Dropout(0.8))\n",
        "model.add(Dense(units = 128, activation = 'relu')) \n",
        "# output layer\n",
        "model.add(Dense(units = 10, activation = 'softmax')) "
      ],
      "execution_count": null,
      "outputs": []
    },
    {
      "cell_type": "code",
      "metadata": {
        "id": "d1DJGdjRi0gH",
        "colab_type": "code",
        "colab": {
          "base_uri": "https://localhost:8080/",
          "height": 554
        },
        "outputId": "64122cb6-0705-4bac-c089-792b99868757"
      },
      "source": [
        "optimizer = Adam(lr=0.01)\n",
        "model.compile(optimizer = optimizer , loss = \"categorical_crossentropy\", metrics=[\"accuracy\"]) \n",
        "model.summary()"
      ],
      "execution_count": null,
      "outputs": [
        {
          "output_type": "stream",
          "text": [
            "Model: \"sequential_6\"\n",
            "_________________________________________________________________\n",
            "Layer (type)                 Output Shape              Param #   \n",
            "=================================================================\n",
            "conv2d_24 (Conv2D)           (None, 24, 24, 32)        832       \n",
            "_________________________________________________________________\n",
            "max_pooling2d_24 (MaxPooling (None, 8, 8, 32)          0         \n",
            "_________________________________________________________________\n",
            "conv2d_25 (Conv2D)           (None, 8, 8, 64)          32832     \n",
            "_________________________________________________________________\n",
            "max_pooling2d_25 (MaxPooling (None, 4, 4, 64)          0         \n",
            "_________________________________________________________________\n",
            "conv2d_26 (Conv2D)           (None, 4, 4, 128)         73856     \n",
            "_________________________________________________________________\n",
            "max_pooling2d_26 (MaxPooling (None, 2, 2, 128)         0         \n",
            "_________________________________________________________________\n",
            "conv2d_27 (Conv2D)           (None, 2, 2, 128)         65664     \n",
            "_________________________________________________________________\n",
            "max_pooling2d_27 (MaxPooling (None, 1, 1, 128)         0         \n",
            "_________________________________________________________________\n",
            "flatten_5 (Flatten)          (None, 128)               0         \n",
            "_________________________________________________________________\n",
            "dense_11 (Dense)             (None, 256)               33024     \n",
            "_________________________________________________________________\n",
            "dense_12 (Dense)             (None, 128)               32896     \n",
            "_________________________________________________________________\n",
            "dense_13 (Dense)             (None, 10)                1290      \n",
            "=================================================================\n",
            "Total params: 240,394\n",
            "Trainable params: 240,394\n",
            "Non-trainable params: 0\n",
            "_________________________________________________________________\n"
          ],
          "name": "stdout"
        }
      ]
    },
    {
      "cell_type": "code",
      "metadata": {
        "id": "KlyG4tC3jLTl",
        "colab_type": "code",
        "colab": {
          "base_uri": "https://localhost:8080/",
          "height": 353
        },
        "outputId": "10cf150e-608e-4a00-cb68-c122c358a427"
      },
      "source": [
        "batch_size = 128\n",
        "nb_epochs = 10\n",
        "history = model.fit(x_train, y_train,\n",
        "                    batch_size=batch_size,\n",
        "                    epochs=nb_epochs, \n",
        "                    validation_data=(x_val, y_val),\n",
        "                    initial_epoch=0)"
      ],
      "execution_count": null,
      "outputs": [
        {
          "output_type": "stream",
          "text": [
            "Epoch 1/10\n",
            "422/422 [==============================] - 52s 123ms/step - loss: 0.6737 - accuracy: 0.7401 - val_loss: 0.4256 - val_accuracy: 0.8448\n",
            "Epoch 2/10\n",
            "422/422 [==============================] - 52s 122ms/step - loss: 0.4035 - accuracy: 0.8534 - val_loss: 0.3868 - val_accuracy: 0.8565\n",
            "Epoch 3/10\n",
            "422/422 [==============================] - 52s 123ms/step - loss: 0.3685 - accuracy: 0.8667 - val_loss: 0.3589 - val_accuracy: 0.8770\n",
            "Epoch 4/10\n",
            "422/422 [==============================] - 52s 123ms/step - loss: 0.3509 - accuracy: 0.8734 - val_loss: 0.3894 - val_accuracy: 0.8625\n",
            "Epoch 5/10\n",
            "422/422 [==============================] - 52s 122ms/step - loss: 0.3386 - accuracy: 0.8775 - val_loss: 0.3448 - val_accuracy: 0.8800\n",
            "Epoch 6/10\n",
            "422/422 [==============================] - 55s 131ms/step - loss: 0.3323 - accuracy: 0.8803 - val_loss: 0.3482 - val_accuracy: 0.8752\n",
            "Epoch 7/10\n",
            "422/422 [==============================] - 52s 124ms/step - loss: 0.3260 - accuracy: 0.8831 - val_loss: 0.3361 - val_accuracy: 0.8827\n",
            "Epoch 8/10\n",
            "422/422 [==============================] - 52s 123ms/step - loss: 0.3331 - accuracy: 0.8818 - val_loss: 0.3465 - val_accuracy: 0.8785\n",
            "Epoch 9/10\n",
            "422/422 [==============================] - 52s 123ms/step - loss: 0.3088 - accuracy: 0.8887 - val_loss: 0.3283 - val_accuracy: 0.8868\n",
            "Epoch 10/10\n",
            "422/422 [==============================] - 52s 123ms/step - loss: 0.2966 - accuracy: 0.8926 - val_loss: 0.3576 - val_accuracy: 0.8788\n"
          ],
          "name": "stdout"
        }
      ]
    },
    {
      "cell_type": "code",
      "metadata": {
        "id": "iQ1jJBts36Rm",
        "colab_type": "code",
        "colab": {
          "base_uri": "https://localhost:8080/",
          "height": 87
        },
        "outputId": "5c25692a-8c9f-4759-b292-eefc94e43f06"
      },
      "source": [
        "ynew = model.predict_classes(x_test_data)"
      ],
      "execution_count": null,
      "outputs": [
        {
          "output_type": "stream",
          "text": [
            "WARNING:tensorflow:From <ipython-input-84-5487d91e210a>:1: Sequential.predict_classes (from tensorflow.python.keras.engine.sequential) is deprecated and will be removed after 2021-01-01.\n",
            "Instructions for updating:\n",
            "Please use instead:* `np.argmax(model.predict(x), axis=-1)`,   if your model does multi-class classification   (e.g. if it uses a `softmax` last-layer activation).* `(model.predict(x) > 0.5).astype(\"int32\")`,   if your model does binary classification   (e.g. if it uses a `sigmoid` last-layer activation).\n"
          ],
          "name": "stdout"
        }
      ]
    },
    {
      "cell_type": "code",
      "metadata": {
        "id": "OvAnMgNB4cRM",
        "colab_type": "code",
        "colab": {}
      },
      "source": [
        "A = pd.DataFrame(data=ynew ,columns=[\"label\"])"
      ],
      "execution_count": null,
      "outputs": []
    },
    {
      "cell_type": "code",
      "metadata": {
        "id": "6TsY9YzX5S6s",
        "colab_type": "code",
        "colab": {
          "base_uri": "https://localhost:8080/",
          "height": 343
        },
        "outputId": "538edab3-1f69-4118-853b-a390a115775d"
      },
      "source": [
        "A.head(10)"
      ],
      "execution_count": null,
      "outputs": [
        {
          "output_type": "execute_result",
          "data": {
            "text/html": [
              "<div>\n",
              "<style scoped>\n",
              "    .dataframe tbody tr th:only-of-type {\n",
              "        vertical-align: middle;\n",
              "    }\n",
              "\n",
              "    .dataframe tbody tr th {\n",
              "        vertical-align: top;\n",
              "    }\n",
              "\n",
              "    .dataframe thead th {\n",
              "        text-align: right;\n",
              "    }\n",
              "</style>\n",
              "<table border=\"1\" class=\"dataframe\">\n",
              "  <thead>\n",
              "    <tr style=\"text-align: right;\">\n",
              "      <th></th>\n",
              "      <th>label</th>\n",
              "    </tr>\n",
              "  </thead>\n",
              "  <tbody>\n",
              "    <tr>\n",
              "      <th>0</th>\n",
              "      <td>9</td>\n",
              "    </tr>\n",
              "    <tr>\n",
              "      <th>1</th>\n",
              "      <td>2</td>\n",
              "    </tr>\n",
              "    <tr>\n",
              "      <th>2</th>\n",
              "      <td>1</td>\n",
              "    </tr>\n",
              "    <tr>\n",
              "      <th>3</th>\n",
              "      <td>1</td>\n",
              "    </tr>\n",
              "    <tr>\n",
              "      <th>4</th>\n",
              "      <td>6</td>\n",
              "    </tr>\n",
              "    <tr>\n",
              "      <th>5</th>\n",
              "      <td>1</td>\n",
              "    </tr>\n",
              "    <tr>\n",
              "      <th>6</th>\n",
              "      <td>4</td>\n",
              "    </tr>\n",
              "    <tr>\n",
              "      <th>7</th>\n",
              "      <td>6</td>\n",
              "    </tr>\n",
              "    <tr>\n",
              "      <th>8</th>\n",
              "      <td>5</td>\n",
              "    </tr>\n",
              "    <tr>\n",
              "      <th>9</th>\n",
              "      <td>7</td>\n",
              "    </tr>\n",
              "  </tbody>\n",
              "</table>\n",
              "</div>"
            ],
            "text/plain": [
              "   label\n",
              "0      9\n",
              "1      2\n",
              "2      1\n",
              "3      1\n",
              "4      6\n",
              "5      1\n",
              "6      4\n",
              "7      6\n",
              "8      5\n",
              "9      7"
            ]
          },
          "metadata": {
            "tags": []
          },
          "execution_count": 87
        }
      ]
    },
    {
      "cell_type": "code",
      "metadata": {
        "id": "6XTwy_eb5i_z",
        "colab_type": "code",
        "colab": {}
      },
      "source": [
        "DT = pd.merge(submission , A, on=None, left_index= True,\n",
        "    right_index=True)"
      ],
      "execution_count": null,
      "outputs": []
    },
    {
      "cell_type": "code",
      "metadata": {
        "id": "mBAnKqo45omy",
        "colab_type": "code",
        "colab": {
          "base_uri": "https://localhost:8080/",
          "height": 343
        },
        "outputId": "baa61c23-46da-43ae-8d54-49db5484c37d"
      },
      "source": [
        "DT.head(10)"
      ],
      "execution_count": null,
      "outputs": [
        {
          "output_type": "execute_result",
          "data": {
            "text/html": [
              "<div>\n",
              "<style scoped>\n",
              "    .dataframe tbody tr th:only-of-type {\n",
              "        vertical-align: middle;\n",
              "    }\n",
              "\n",
              "    .dataframe tbody tr th {\n",
              "        vertical-align: top;\n",
              "    }\n",
              "\n",
              "    .dataframe thead th {\n",
              "        text-align: right;\n",
              "    }\n",
              "</style>\n",
              "<table border=\"1\" class=\"dataframe\">\n",
              "  <thead>\n",
              "    <tr style=\"text-align: right;\">\n",
              "      <th></th>\n",
              "      <th>id</th>\n",
              "      <th>label</th>\n",
              "    </tr>\n",
              "  </thead>\n",
              "  <tbody>\n",
              "    <tr>\n",
              "      <th>0</th>\n",
              "      <td>60001</td>\n",
              "      <td>9</td>\n",
              "    </tr>\n",
              "    <tr>\n",
              "      <th>1</th>\n",
              "      <td>60002</td>\n",
              "      <td>2</td>\n",
              "    </tr>\n",
              "    <tr>\n",
              "      <th>2</th>\n",
              "      <td>60003</td>\n",
              "      <td>1</td>\n",
              "    </tr>\n",
              "    <tr>\n",
              "      <th>3</th>\n",
              "      <td>60004</td>\n",
              "      <td>1</td>\n",
              "    </tr>\n",
              "    <tr>\n",
              "      <th>4</th>\n",
              "      <td>60005</td>\n",
              "      <td>6</td>\n",
              "    </tr>\n",
              "    <tr>\n",
              "      <th>5</th>\n",
              "      <td>60006</td>\n",
              "      <td>1</td>\n",
              "    </tr>\n",
              "    <tr>\n",
              "      <th>6</th>\n",
              "      <td>60007</td>\n",
              "      <td>4</td>\n",
              "    </tr>\n",
              "    <tr>\n",
              "      <th>7</th>\n",
              "      <td>60008</td>\n",
              "      <td>6</td>\n",
              "    </tr>\n",
              "    <tr>\n",
              "      <th>8</th>\n",
              "      <td>60009</td>\n",
              "      <td>5</td>\n",
              "    </tr>\n",
              "    <tr>\n",
              "      <th>9</th>\n",
              "      <td>60010</td>\n",
              "      <td>7</td>\n",
              "    </tr>\n",
              "  </tbody>\n",
              "</table>\n",
              "</div>"
            ],
            "text/plain": [
              "      id  label\n",
              "0  60001      9\n",
              "1  60002      2\n",
              "2  60003      1\n",
              "3  60004      1\n",
              "4  60005      6\n",
              "5  60006      1\n",
              "6  60007      4\n",
              "7  60008      6\n",
              "8  60009      5\n",
              "9  60010      7"
            ]
          },
          "metadata": {
            "tags": []
          },
          "execution_count": 90
        }
      ]
    },
    {
      "cell_type": "code",
      "metadata": {
        "id": "5SkTv1tw5vIX",
        "colab_type": "code",
        "colab": {}
      },
      "source": [
        "DT.to_csv('one.csv',index = False)"
      ],
      "execution_count": null,
      "outputs": []
    },
    {
      "cell_type": "code",
      "metadata": {
        "id": "6Ha-FRi55199",
        "colab_type": "code",
        "colab": {}
      },
      "source": [
        "!cp one.csv \"drive/My Drive/\""
      ],
      "execution_count": null,
      "outputs": []
    },
    {
      "cell_type": "markdown",
      "metadata": {
        "id": "VGu8zAc3XsR8",
        "colab_type": "text"
      },
      "source": [
        "###### ITS OVERFITTING"
      ]
    },
    {
      "cell_type": "markdown",
      "metadata": {
        "id": "Z8WwolYZXLkl",
        "colab_type": "text"
      },
      "source": [
        "#### SAVING IN DRIVE FOR FURTHER USE"
      ]
    },
    {
      "cell_type": "code",
      "metadata": {
        "id": "Xs0ZQoAQ6KRa",
        "colab_type": "code",
        "colab": {}
      },
      "source": [
        "from numpy import save\n",
        "\n",
        "save('X_train.npy', x_train_data)\n",
        "save('y_train.npy', y_train_data)\n",
        "save('X_test.npy', x_test_data)"
      ],
      "execution_count": null,
      "outputs": []
    },
    {
      "cell_type": "code",
      "metadata": {
        "id": "4nS5giVP7TgD",
        "colab_type": "code",
        "colab": {}
      },
      "source": [
        "!cp X_train.npy \"drive/My Drive/\"\n",
        "!cp y_train.npy \"drive/My Drive/\"\n",
        "!cp X_test.npy \"drive/My Drive/\""
      ],
      "execution_count": null,
      "outputs": []
    },
    {
      "cell_type": "code",
      "metadata": {
        "id": "WZlLS868bAd5",
        "colab_type": "code",
        "colab": {}
      },
      "source": [
        "import numpy as np\n",
        "x_train_data = np.load('/content/drive/My Drive/HAX/fashion/X_train.npy', allow_pickle=True)\n",
        "x_test_data = np.load('/content/drive/My Drive/HAX/fashion/X_test.npy', allow_pickle=True)\n",
        "y_train_data = np.load('/content/drive/My Drive/HAX/fashion/y_train.npy', allow_pickle=True)"
      ],
      "execution_count": null,
      "outputs": []
    },
    {
      "cell_type": "code",
      "metadata": {
        "id": "bsNXBbgmc2qM",
        "colab_type": "code",
        "colab": {
          "base_uri": "https://localhost:8080/",
          "height": 50
        },
        "outputId": "e298d72f-f044-41dd-9b2d-b15b43084a3b"
      },
      "source": [
        "from sklearn.model_selection import train_test_split\n",
        "x_train, x_val, y_train, y_val = train_test_split(x_train_data, y_train_data, test_size=0.1, random_state=2)\n",
        "print (x_train.shape)\n",
        "print (x_val.shape)"
      ],
      "execution_count": null,
      "outputs": [
        {
          "output_type": "stream",
          "text": [
            "(54000, 28, 28, 1)\n",
            "(6000, 28, 28, 1)\n"
          ],
          "name": "stdout"
        }
      ]
    },
    {
      "cell_type": "code",
      "metadata": {
        "id": "c8vjZUVUeeOs",
        "colab_type": "code",
        "colab": {}
      },
      "source": [
        "img_rows=28\n",
        "img_cols=28\n",
        "num_channel=1"
      ],
      "execution_count": null,
      "outputs": []
    },
    {
      "cell_type": "code",
      "metadata": {
        "id": "bXSLn7ajvsiK",
        "colab_type": "code",
        "colab": {
          "base_uri": "https://localhost:8080/",
          "height": 588
        },
        "outputId": "146e8695-23bc-4e31-b49d-467e50afbccf"
      },
      "source": [
        "model=Sequential()\n",
        "\n",
        "#model.add(ZeroPadding2D((1,1),input_shape=(28,28,1)))\n",
        "model.add(Conv2D(32,kernel_size=(3,3),activation='relu',input_shape = (img_rows, img_cols, num_channel)))\n",
        "#model.add(ZeroPadding2D(padding=(1,1)))\n",
        "\n",
        "model.add(Conv2D(32,kernel_size=(3,3),activation='relu'))\n",
        "model.add(Conv2D(32,kernel_size=(3,3),activation='relu'))\n",
        "#model.add(MaxPooling2D(pool_size=(2,2)))\n",
        "\n",
        "model.add(Conv2D(64,kernel_size=(3,3),activation='relu'))\n",
        "model.add(Conv2D(64,kernel_size=(3,3),activation='relu'))\n",
        "#model.add(MaxPooling2D(pool_size=(2,2)))\n",
        "\n",
        "model.add(Conv2D(128,kernel_size=(3,3),activation='relu'))\n",
        "model.add(Conv2D(128,kernel_size=(3,3),activation='relu'))\n",
        "#model.add(MaxPooling2D(pool_size=(2,2)))\n",
        "\n",
        "model.add(Flatten())\n",
        "model.add(Dense(500,activation='relu'))\n",
        "model.add(Dropout(0.2))\n",
        "model.add(Dense(200,activation='relu'))\n",
        "model.add(Dropout(0.2))\n",
        "model.add(Dense(10,activation='softmax'))\n",
        "\n",
        "model.compile(loss='categorical_crossentropy', optimizer='adam',metrics=['accuracy'])\n",
        "model.summary()"
      ],
      "execution_count": null,
      "outputs": [
        {
          "output_type": "stream",
          "text": [
            "Model: \"sequential_6\"\n",
            "_________________________________________________________________\n",
            "Layer (type)                 Output Shape              Param #   \n",
            "=================================================================\n",
            "conv2d_29 (Conv2D)           (None, 26, 26, 32)        320       \n",
            "_________________________________________________________________\n",
            "conv2d_30 (Conv2D)           (None, 24, 24, 32)        9248      \n",
            "_________________________________________________________________\n",
            "conv2d_31 (Conv2D)           (None, 22, 22, 32)        9248      \n",
            "_________________________________________________________________\n",
            "conv2d_32 (Conv2D)           (None, 20, 20, 64)        18496     \n",
            "_________________________________________________________________\n",
            "conv2d_33 (Conv2D)           (None, 18, 18, 64)        36928     \n",
            "_________________________________________________________________\n",
            "conv2d_34 (Conv2D)           (None, 16, 16, 128)       73856     \n",
            "_________________________________________________________________\n",
            "conv2d_35 (Conv2D)           (None, 14, 14, 128)       147584    \n",
            "_________________________________________________________________\n",
            "flatten_1 (Flatten)          (None, 25088)             0         \n",
            "_________________________________________________________________\n",
            "dense_3 (Dense)              (None, 500)               12544500  \n",
            "_________________________________________________________________\n",
            "dropout_2 (Dropout)          (None, 500)               0         \n",
            "_________________________________________________________________\n",
            "dense_4 (Dense)              (None, 200)               100200    \n",
            "_________________________________________________________________\n",
            "dropout_3 (Dropout)          (None, 200)               0         \n",
            "_________________________________________________________________\n",
            "dense_5 (Dense)              (None, 10)                2010      \n",
            "=================================================================\n",
            "Total params: 12,942,390\n",
            "Trainable params: 12,942,390\n",
            "Non-trainable params: 0\n",
            "_________________________________________________________________\n"
          ],
          "name": "stdout"
        }
      ]
    },
    {
      "cell_type": "code",
      "metadata": {
        "id": "fkDmMXFQh65N",
        "colab_type": "code",
        "colab": {
          "base_uri": "https://localhost:8080/",
          "height": 353
        },
        "outputId": "fea49643-c1b6-46da-bdb6-eac23f40840f"
      },
      "source": [
        "batch_size = 128\n",
        "nb_epochs = 10\n",
        "history1 = model.fit(x_train, y_train,\n",
        "                    batch_size=batch_size,\n",
        "                    epochs=nb_epochs, \n",
        "                    validation_data=(x_val, y_val),\n",
        "                    initial_epoch=0)"
      ],
      "execution_count": null,
      "outputs": [
        {
          "output_type": "stream",
          "text": [
            "Epoch 1/10\n",
            "422/422 [==============================] - 762s 2s/step - loss: 0.5954 - accuracy: 0.7773 - val_loss: 0.3861 - val_accuracy: 0.8600\n",
            "Epoch 2/10\n",
            "422/422 [==============================] - 757s 2s/step - loss: 0.3538 - accuracy: 0.8704 - val_loss: 0.3042 - val_accuracy: 0.8920\n",
            "Epoch 3/10\n",
            "422/422 [==============================] - 766s 2s/step - loss: 0.2930 - accuracy: 0.8912 - val_loss: 0.2860 - val_accuracy: 0.8983\n",
            "Epoch 4/10\n",
            "422/422 [==============================] - 763s 2s/step - loss: 0.2595 - accuracy: 0.9029 - val_loss: 0.2681 - val_accuracy: 0.9027\n",
            "Epoch 5/10\n",
            "422/422 [==============================] - 755s 2s/step - loss: 0.2236 - accuracy: 0.9178 - val_loss: 0.2683 - val_accuracy: 0.9073\n",
            "Epoch 6/10\n",
            "422/422 [==============================] - 763s 2s/step - loss: 0.1911 - accuracy: 0.9288 - val_loss: 0.2884 - val_accuracy: 0.9000\n",
            "Epoch 7/10\n",
            "422/422 [==============================] - 761s 2s/step - loss: 0.1698 - accuracy: 0.9362 - val_loss: 0.2837 - val_accuracy: 0.9062\n",
            "Epoch 8/10\n",
            "422/422 [==============================] - 764s 2s/step - loss: 0.1374 - accuracy: 0.9493 - val_loss: 0.2984 - val_accuracy: 0.9057\n",
            "Epoch 9/10\n",
            "422/422 [==============================] - 758s 2s/step - loss: 0.1130 - accuracy: 0.9590 - val_loss: 0.3134 - val_accuracy: 0.9100\n",
            "Epoch 10/10\n",
            "422/422 [==============================] - 758s 2s/step - loss: 0.0956 - accuracy: 0.9658 - val_loss: 0.3230 - val_accuracy: 0.9075\n"
          ],
          "name": "stdout"
        }
      ]
    },
    {
      "cell_type": "code",
      "metadata": {
        "id": "mv3N0n5q-vYv",
        "colab_type": "code",
        "colab": {
          "base_uri": "https://localhost:8080/",
          "height": 87
        },
        "outputId": "cecdacb0-d97a-4006-873a-93c2dc636791"
      },
      "source": [
        "ynew1 = model.predict_classes(x_test_data)"
      ],
      "execution_count": null,
      "outputs": [
        {
          "output_type": "stream",
          "text": [
            "WARNING:tensorflow:From <ipython-input-17-759713a17374>:1: Sequential.predict_classes (from tensorflow.python.keras.engine.sequential) is deprecated and will be removed after 2021-01-01.\n",
            "Instructions for updating:\n",
            "Please use instead:* `np.argmax(model.predict(x), axis=-1)`,   if your model does multi-class classification   (e.g. if it uses a `softmax` last-layer activation).* `(model.predict(x) > 0.5).astype(\"int32\")`,   if your model does binary classification   (e.g. if it uses a `sigmoid` last-layer activation).\n"
          ],
          "name": "stdout"
        }
      ]
    },
    {
      "cell_type": "code",
      "metadata": {
        "id": "k1uLDbNA_yPt",
        "colab_type": "code",
        "colab": {}
      },
      "source": [
        "A1 = pd.DataFrame(data=ynew1 ,columns=[\"label\"])"
      ],
      "execution_count": null,
      "outputs": []
    },
    {
      "cell_type": "code",
      "metadata": {
        "id": "UJBw4jVfAQP0",
        "colab_type": "code",
        "colab": {}
      },
      "source": [
        "submission = pd.read_csv('/content/drive/My Drive/HAX/sample_submission_I5njJSF.csv')"
      ],
      "execution_count": null,
      "outputs": []
    },
    {
      "cell_type": "code",
      "metadata": {
        "id": "lGhIBL0IAg8v",
        "colab_type": "code",
        "colab": {
          "base_uri": "https://localhost:8080/",
          "height": 218
        },
        "outputId": "daec7650-6b14-4a4f-de37-81311101ebe0"
      },
      "source": [
        "sub = submission['id']\n",
        "sub"
      ],
      "execution_count": null,
      "outputs": [
        {
          "output_type": "execute_result",
          "data": {
            "text/plain": [
              "0       60001\n",
              "1       60002\n",
              "2       60003\n",
              "3       60004\n",
              "4       60005\n",
              "        ...  \n",
              "9995    69996\n",
              "9996    69997\n",
              "9997    69998\n",
              "9998    69999\n",
              "9999    70000\n",
              "Name: id, Length: 10000, dtype: int64"
            ]
          },
          "metadata": {
            "tags": []
          },
          "execution_count": 13
        }
      ]
    },
    {
      "cell_type": "code",
      "metadata": {
        "id": "Ue-XAa2PBA6d",
        "colab_type": "code",
        "colab": {}
      },
      "source": [
        "DT = pd.merge(sub , A1, on=None, left_index= True,\n",
        "    right_index=True)"
      ],
      "execution_count": null,
      "outputs": []
    },
    {
      "cell_type": "code",
      "metadata": {
        "id": "kIzF9xqtBIo5",
        "colab_type": "code",
        "colab": {}
      },
      "source": [
        "DT.to_csv('two.csv',index = False)"
      ],
      "execution_count": null,
      "outputs": []
    },
    {
      "cell_type": "code",
      "metadata": {
        "id": "dZxunF5bBMmk",
        "colab_type": "code",
        "colab": {}
      },
      "source": [
        "!cp two.csv \"drive/My Drive/\""
      ],
      "execution_count": null,
      "outputs": []
    },
    {
      "cell_type": "code",
      "metadata": {
        "id": "UE6FoaX9BMbR",
        "colab_type": "code",
        "colab": {
          "base_uri": "https://localhost:8080/",
          "height": 655
        },
        "outputId": "d31ca835-9c2d-49bf-fd9c-fc37d108c3e9"
      },
      "source": [
        "model=Sequential()\n",
        "\n",
        "\n",
        "model.add(Conv2D(32,kernel_size=(3,3),activation='relu',input_shape = (img_rows, img_cols, num_channel)))\n",
        "\n",
        "\n",
        "model.add(Conv2D(32,kernel_size=(3,3),activation='relu'))\n",
        "model.add(Conv2D(32,kernel_size=(3,3),activation='relu'))\n",
        "\n",
        "\n",
        "model.add(Conv2D(64,kernel_size=(3,3),activation='relu'))\n",
        "model.add(Conv2D(64,kernel_size=(3,3),activation='relu'))\n",
        "\n",
        "\n",
        "model.add(Conv2D(128,kernel_size=(3,3),activation='relu'))\n",
        "model.add(Conv2D(128,kernel_size=(3,3),activation='relu'))\n",
        "\n",
        "model.add(Conv2D(256,kernel_size=(3,3),activation='relu'))\n",
        "model.add(Conv2D(256,kernel_size=(3,3),activation='relu'))\n",
        "\n",
        "model.add(Flatten())\n",
        "model.add(Dense(500,activation='relu'))\n",
        "\n",
        "model.add(Dense(250,activation='relu'))\n",
        "\n",
        "model.add(Dense(128,activation='relu'))\n",
        "\n",
        "model.add(Dense(64,activation='relu'))\n",
        "\n",
        "model.add(Dense(10,activation='softmax'))\n",
        "\n",
        "model.compile(loss='categorical_crossentropy', optimizer='adam',metrics=['accuracy'])\n",
        "model.summary()"
      ],
      "execution_count": null,
      "outputs": [
        {
          "output_type": "stream",
          "text": [
            "Model: \"sequential_7\"\n",
            "_________________________________________________________________\n",
            "Layer (type)                 Output Shape              Param #   \n",
            "=================================================================\n",
            "conv2d_36 (Conv2D)           (None, 26, 26, 32)        320       \n",
            "_________________________________________________________________\n",
            "conv2d_37 (Conv2D)           (None, 24, 24, 32)        9248      \n",
            "_________________________________________________________________\n",
            "conv2d_38 (Conv2D)           (None, 22, 22, 32)        9248      \n",
            "_________________________________________________________________\n",
            "conv2d_39 (Conv2D)           (None, 20, 20, 64)        18496     \n",
            "_________________________________________________________________\n",
            "conv2d_40 (Conv2D)           (None, 18, 18, 64)        36928     \n",
            "_________________________________________________________________\n",
            "conv2d_41 (Conv2D)           (None, 16, 16, 128)       73856     \n",
            "_________________________________________________________________\n",
            "conv2d_42 (Conv2D)           (None, 14, 14, 128)       147584    \n",
            "_________________________________________________________________\n",
            "conv2d_43 (Conv2D)           (None, 12, 12, 256)       295168    \n",
            "_________________________________________________________________\n",
            "conv2d_44 (Conv2D)           (None, 10, 10, 256)       590080    \n",
            "_________________________________________________________________\n",
            "flatten_2 (Flatten)          (None, 25600)             0         \n",
            "_________________________________________________________________\n",
            "dense_6 (Dense)              (None, 500)               12800500  \n",
            "_________________________________________________________________\n",
            "dense_7 (Dense)              (None, 250)               125250    \n",
            "_________________________________________________________________\n",
            "dense_8 (Dense)              (None, 128)               32128     \n",
            "_________________________________________________________________\n",
            "dense_9 (Dense)              (None, 64)                8256      \n",
            "_________________________________________________________________\n",
            "dense_10 (Dense)             (None, 10)                650       \n",
            "=================================================================\n",
            "Total params: 14,147,712\n",
            "Trainable params: 14,147,712\n",
            "Non-trainable params: 0\n",
            "_________________________________________________________________\n"
          ],
          "name": "stdout"
        }
      ]
    },
    {
      "cell_type": "code",
      "metadata": {
        "id": "WM-bfVI1CkMR",
        "colab_type": "code",
        "colab": {
          "base_uri": "https://localhost:8080/",
          "height": 353
        },
        "outputId": "5d2dddd4-0b89-42df-e76f-c4b44134a972"
      },
      "source": [
        "batch_size = 128\n",
        "nb_epochs = 10\n",
        "history2 = model.fit(x_train, y_train,\n",
        "                    batch_size=batch_size,\n",
        "                    epochs=nb_epochs, \n",
        "                    validation_data=(x_val, y_val),\n",
        "                    initial_epoch=0)"
      ],
      "execution_count": null,
      "outputs": [
        {
          "output_type": "stream",
          "text": [
            "Epoch 1/10\n",
            "422/422 [==============================] - 1551s 4s/step - loss: 0.7101 - accuracy: 0.7296 - val_loss: 0.5116 - val_accuracy: 0.8108\n",
            "Epoch 2/10\n",
            "422/422 [==============================] - 1573s 4s/step - loss: 0.4258 - accuracy: 0.8429 - val_loss: 0.3732 - val_accuracy: 0.8680\n",
            "Epoch 3/10\n",
            "422/422 [==============================] - 1567s 4s/step - loss: 0.3422 - accuracy: 0.8736 - val_loss: 0.3271 - val_accuracy: 0.8842\n",
            "Epoch 4/10\n",
            "422/422 [==============================] - 1539s 4s/step - loss: 0.2946 - accuracy: 0.8929 - val_loss: 0.3086 - val_accuracy: 0.8888\n",
            "Epoch 5/10\n",
            "422/422 [==============================] - 1524s 4s/step - loss: 0.2644 - accuracy: 0.9027 - val_loss: 0.2808 - val_accuracy: 0.9022\n",
            "Epoch 6/10\n",
            "422/422 [==============================] - 1525s 4s/step - loss: 0.2407 - accuracy: 0.9111 - val_loss: 0.2690 - val_accuracy: 0.9033\n",
            "Epoch 7/10\n",
            "422/422 [==============================] - 1562s 4s/step - loss: 0.2173 - accuracy: 0.9187 - val_loss: 0.2921 - val_accuracy: 0.9002\n",
            "Epoch 8/10\n",
            "422/422 [==============================] - 1590s 4s/step - loss: 0.2010 - accuracy: 0.9248 - val_loss: 0.2651 - val_accuracy: 0.9092\n",
            "Epoch 9/10\n",
            "422/422 [==============================] - 1553s 4s/step - loss: 0.1819 - accuracy: 0.9317 - val_loss: 0.2916 - val_accuracy: 0.9022\n",
            "Epoch 10/10\n",
            "422/422 [==============================] - 1552s 4s/step - loss: 0.1558 - accuracy: 0.9424 - val_loss: 0.3143 - val_accuracy: 0.9018\n"
          ],
          "name": "stdout"
        }
      ]
    },
    {
      "cell_type": "code",
      "metadata": {
        "id": "flwi-jSy0bkj",
        "colab_type": "code",
        "colab": {}
      },
      "source": [
        "ynew2 = model.predict_classes(x_test_data)"
      ],
      "execution_count": null,
      "outputs": []
    },
    {
      "cell_type": "code",
      "metadata": {
        "id": "TM79IOXD25md",
        "colab_type": "code",
        "colab": {}
      },
      "source": [
        "A2 = pd.DataFrame(data=ynew2 ,columns=[\"label\"])"
      ],
      "execution_count": null,
      "outputs": []
    },
    {
      "cell_type": "code",
      "metadata": {
        "id": "1zI5LxzX2xE4",
        "colab_type": "code",
        "colab": {}
      },
      "source": [
        "DT = pd.merge(sub , A2, on=None, left_index= True,\n",
        "    right_index=True)"
      ],
      "execution_count": null,
      "outputs": []
    },
    {
      "cell_type": "code",
      "metadata": {
        "id": "I76lMACW3OmJ",
        "colab_type": "code",
        "colab": {}
      },
      "source": [
        "DT.to_csv('three.csv',index = False)"
      ],
      "execution_count": null,
      "outputs": []
    },
    {
      "cell_type": "code",
      "metadata": {
        "id": "20j82z--3UwD",
        "colab_type": "code",
        "colab": {}
      },
      "source": [
        "!cp three.csv \"drive/My Drive/\""
      ],
      "execution_count": null,
      "outputs": []
    },
    {
      "cell_type": "markdown",
      "metadata": {
        "id": "m5KNCSK_X3mA",
        "colab_type": "text"
      },
      "source": [
        "###### STILL OVERFITTING"
      ]
    },
    {
      "cell_type": "markdown",
      "metadata": {
        "id": "PAXZQG-kX8Z4",
        "colab_type": "text"
      },
      "source": [
        "# BIGGER DIMS (128*128)"
      ]
    },
    {
      "cell_type": "code",
      "metadata": {
        "id": "HCQ2_ObMsRAk",
        "colab_type": "code",
        "colab": {
          "base_uri": "https://localhost:8080/",
          "height": 34
        },
        "outputId": "2d16e58f-518a-4c4f-c2e8-5582e38fdaaf"
      },
      "source": [
        "img_rows=128\n",
        "img_cols=128\n",
        "num_channel=1\n",
        "from tqdm import tqdm\n",
        "import cv2\n",
        "x_feature = []\n",
        "y_feature = []\n",
        "\n",
        "i = 0 # initialisation\n",
        "for f, img in tqdm(labels.values): # f for format ,jpg\n",
        "    train_img = cv2.imread('./train/{}.png'.format(f),0)\n",
        "    label = one_hot_labels[i]\n",
        "    train_img_resize = cv2.resize(train_img, (img_rows, img_cols)) \n",
        "    x_feature.append(train_img_resize)\n",
        "    y_feature.append(label)\n",
        "    i += 1"
      ],
      "execution_count": null,
      "outputs": [
        {
          "output_type": "stream",
          "text": [
            "100%|██████████| 60000/60000 [00:06<00:00, 8707.54it/s]\n"
          ],
          "name": "stderr"
        }
      ]
    },
    {
      "cell_type": "code",
      "metadata": {
        "id": "x0RIf9Glsbf-",
        "colab_type": "code",
        "colab": {
          "base_uri": "https://localhost:8080/",
          "height": 34
        },
        "outputId": "26876d9d-80f6-4bde-bd16-73549b4d955f"
      },
      "source": [
        "x_train_data = np.array(x_feature, np.float32) / 255.   # /= 255 for normolisation\n",
        "print (x_train_data.shape)\n"
      ],
      "execution_count": null,
      "outputs": [
        {
          "output_type": "stream",
          "text": [
            "(60000, 128, 128)\n"
          ],
          "name": "stdout"
        }
      ]
    },
    {
      "cell_type": "code",
      "metadata": {
        "id": "aOD1jmV6_SRa",
        "colab_type": "code",
        "colab": {
          "base_uri": "https://localhost:8080/",
          "height": 34
        },
        "outputId": "fb7314dc-f588-4317-82c8-26a89621e183"
      },
      "source": [
        "x_train_data = np.expand_dims(x_train_data, axis = 3) # for keras to given input to Conv2D layer\n",
        "print (x_train_data.shape)"
      ],
      "execution_count": null,
      "outputs": [
        {
          "output_type": "stream",
          "text": [
            "(60000, 128, 128, 1)\n"
          ],
          "name": "stdout"
        }
      ]
    },
    {
      "cell_type": "code",
      "metadata": {
        "id": "NQZQ_YJ5vae2",
        "colab_type": "code",
        "colab": {
          "base_uri": "https://localhost:8080/",
          "height": 34
        },
        "outputId": "30ed6f0f-2a8a-4c19-ae12-d93faa9433b9"
      },
      "source": [
        "y_train_data = np.array(y_feature)\n",
        "\n",
        "y_train_data.shape"
      ],
      "execution_count": null,
      "outputs": [
        {
          "output_type": "execute_result",
          "data": {
            "text/plain": [
              "(60000, 10)"
            ]
          },
          "metadata": {
            "tags": []
          },
          "execution_count": 47
        }
      ]
    },
    {
      "cell_type": "code",
      "metadata": {
        "id": "UUqDbw4l_kFK",
        "colab_type": "code",
        "colab": {
          "base_uri": "https://localhost:8080/",
          "height": 34
        },
        "outputId": "3a907e14-9438-4f25-9c63-5578f0be4ec9"
      },
      "source": [
        "x_test_feature = []\n",
        "\n",
        "i = 0 # initialisation\n",
        "for f in tqdm(test_img.values): # f for format ,jpg\n",
        "    img = cv2.imread('./test/{}.png'.format(f), 0)\n",
        "    img_resize = cv2.resize(img, (img_rows, img_cols)) \n",
        "    x_test_feature.append(img_resize)"
      ],
      "execution_count": null,
      "outputs": [
        {
          "output_type": "stream",
          "text": [
            "100%|██████████| 10000/10000 [00:01<00:00, 5486.05it/s]\n"
          ],
          "name": "stderr"
        }
      ]
    },
    {
      "cell_type": "code",
      "metadata": {
        "id": "L0Wfr8aU_1dC",
        "colab_type": "code",
        "colab": {
          "base_uri": "https://localhost:8080/",
          "height": 50
        },
        "outputId": "46f0fd11-fdab-4a5f-c96f-26b5c193199f"
      },
      "source": [
        "x_test_data = np.array(x_test_feature, np.float32) / 255. \n",
        "print (x_test_data.shape)\n",
        "x_test_data = np.expand_dims(x_test_data, axis = 3)\n",
        "print (x_test_data.shape)"
      ],
      "execution_count": null,
      "outputs": [
        {
          "output_type": "stream",
          "text": [
            "(10000, 128, 128)\n",
            "(10000, 128, 128, 1)\n"
          ],
          "name": "stdout"
        }
      ]
    },
    {
      "cell_type": "code",
      "metadata": {
        "id": "nyknWNqA_3eg",
        "colab_type": "code",
        "colab": {}
      },
      "source": [
        "from numpy import save\n",
        "\n",
        "save('X_train128.npy', x_train_data)\n",
        "save('y_train128.npy', y_train_data)\n",
        "save('X_test128.npy', x_test_data)"
      ],
      "execution_count": null,
      "outputs": []
    },
    {
      "cell_type": "code",
      "metadata": {
        "id": "urQBlLnzANGH",
        "colab_type": "code",
        "colab": {}
      },
      "source": [
        "!cp X_train128.npy \"drive/My Drive/\"\n",
        "!cp y_train128.npy \"drive/My Drive/\"\n",
        "!cp X_test128.npy \"drive/My Drive/\""
      ],
      "execution_count": null,
      "outputs": []
    },
    {
      "cell_type": "code",
      "metadata": {
        "id": "_YGeM0QVjVeW",
        "colab_type": "code",
        "colab": {}
      },
      "source": [
        "import numpy as np\n",
        "x_train_data = np.load('/content/drive/My Drive/HAX/128/X_train128.npy', allow_pickle=True)\n",
        "x_test_data = np.load('/content/drive/My Drive/HAX/128/X_test128.npy', allow_pickle=True)\n",
        "y_train_data = np.load('/content/drive/My Drive/HAX/128/y_train128.npy', allow_pickle=True)"
      ],
      "execution_count": null,
      "outputs": []
    },
    {
      "cell_type": "code",
      "metadata": {
        "id": "eoWPxNFHkIFL",
        "colab_type": "code",
        "colab": {
          "base_uri": "https://localhost:8080/",
          "height": 50
        },
        "outputId": "db2487d8-ede0-43ea-9d65-2931d3471555"
      },
      "source": [
        "from sklearn.model_selection import train_test_split\n",
        "x_train, x_val, y_train, y_val = train_test_split(x_train_data, y_train_data, test_size=0.1, random_state=2)\n",
        "print (x_train.shape)\n",
        "print (x_val.shape)"
      ],
      "execution_count": null,
      "outputs": [
        {
          "output_type": "stream",
          "text": [
            "(54000, 128, 128, 1)\n",
            "(6000, 128, 128, 1)\n"
          ],
          "name": "stdout"
        }
      ]
    },
    {
      "cell_type": "code",
      "metadata": {
        "id": "LnUJ6MLTkS9z",
        "colab_type": "code",
        "colab": {}
      },
      "source": [
        "img_rows=128\n",
        "img_cols=128\n",
        "num_channel=1"
      ],
      "execution_count": null,
      "outputs": []
    },
    {
      "cell_type": "code",
      "metadata": {
        "id": "r6s-j7qfkaLS",
        "colab_type": "code",
        "colab": {
          "base_uri": "https://localhost:8080/",
          "height": 722
        },
        "outputId": "38d10c06-0768-4bf1-e5e3-53882feee47c"
      },
      "source": [
        "model=Sequential()\n",
        "\n",
        "#model.add(ZeroPadding2D((1,1),input_shape=(28,28,1)))\n",
        "model.add(Conv2D(32,kernel_size=(3,3),activation='relu',input_shape = (img_rows, img_cols, num_channel)))\n",
        "model.add(ZeroPadding2D(padding=(1,1)))\n",
        "\n",
        "model.add(Conv2D(32,kernel_size=(3,3),activation='relu'))\n",
        "model.add(Conv2D(32,kernel_size=(3,3),activation='relu'))\n",
        "model.add(MaxPooling2D(pool_size=(2,2)))\n",
        "\n",
        "model.add(Conv2D(64,kernel_size=(3,3),activation='relu'))\n",
        "model.add(Conv2D(64,kernel_size=(3,3),activation='relu'))\n",
        "model.add(MaxPooling2D(pool_size=(2,2)))\n",
        "\n",
        "model.add(Conv2D(128,kernel_size=(3,3),activation='relu'))\n",
        "model.add(Conv2D(128,kernel_size=(3,3),activation='relu'))\n",
        "model.add(MaxPooling2D(pool_size=(2,2)))\n",
        "\n",
        "model.add(Flatten())\n",
        "model.add(Dense(500,activation='relu'))\n",
        "model.add(Dropout(0.2))\n",
        "model.add(Dense(200,activation='relu'))\n",
        "model.add(Dropout(0.2))\n",
        "model.add(Dense(10,activation='softmax'))\n",
        "\n",
        "model.compile(loss='categorical_crossentropy', optimizer='adam',metrics=['accuracy'])\n",
        "model.summary()"
      ],
      "execution_count": null,
      "outputs": [
        {
          "output_type": "stream",
          "text": [
            "Model: \"sequential\"\n",
            "_________________________________________________________________\n",
            "Layer (type)                 Output Shape              Param #   \n",
            "=================================================================\n",
            "conv2d (Conv2D)              (None, 126, 126, 32)      320       \n",
            "_________________________________________________________________\n",
            "zero_padding2d (ZeroPadding2 (None, 128, 128, 32)      0         \n",
            "_________________________________________________________________\n",
            "conv2d_1 (Conv2D)            (None, 126, 126, 32)      9248      \n",
            "_________________________________________________________________\n",
            "conv2d_2 (Conv2D)            (None, 124, 124, 32)      9248      \n",
            "_________________________________________________________________\n",
            "max_pooling2d (MaxPooling2D) (None, 62, 62, 32)        0         \n",
            "_________________________________________________________________\n",
            "conv2d_3 (Conv2D)            (None, 60, 60, 64)        18496     \n",
            "_________________________________________________________________\n",
            "conv2d_4 (Conv2D)            (None, 58, 58, 64)        36928     \n",
            "_________________________________________________________________\n",
            "max_pooling2d_1 (MaxPooling2 (None, 29, 29, 64)        0         \n",
            "_________________________________________________________________\n",
            "conv2d_5 (Conv2D)            (None, 27, 27, 128)       73856     \n",
            "_________________________________________________________________\n",
            "conv2d_6 (Conv2D)            (None, 25, 25, 128)       147584    \n",
            "_________________________________________________________________\n",
            "max_pooling2d_2 (MaxPooling2 (None, 12, 12, 128)       0         \n",
            "_________________________________________________________________\n",
            "flatten (Flatten)            (None, 18432)             0         \n",
            "_________________________________________________________________\n",
            "dense (Dense)                (None, 500)               9216500   \n",
            "_________________________________________________________________\n",
            "dropout (Dropout)            (None, 500)               0         \n",
            "_________________________________________________________________\n",
            "dense_1 (Dense)              (None, 200)               100200    \n",
            "_________________________________________________________________\n",
            "dropout_1 (Dropout)          (None, 200)               0         \n",
            "_________________________________________________________________\n",
            "dense_2 (Dense)              (None, 10)                2010      \n",
            "=================================================================\n",
            "Total params: 9,614,390\n",
            "Trainable params: 9,614,390\n",
            "Non-trainable params: 0\n",
            "_________________________________________________________________\n"
          ],
          "name": "stdout"
        }
      ]
    },
    {
      "cell_type": "code",
      "metadata": {
        "id": "6ysN3i2ElXse",
        "colab_type": "code",
        "colab": {
          "base_uri": "https://localhost:8080/",
          "height": 390
        },
        "outputId": "77ee9ed2-0a7d-4be0-fdf2-aed10fe8690f"
      },
      "source": [
        "batch_size = 128\n",
        "nb_epochs = 10\n",
        "history2 = model.fit(x_train, y_train,\n",
        "                    batch_size=batch_size,\n",
        "                    epochs=nb_epochs, \n",
        "                    validation_data=(x_val, y_val),\n",
        "                    initial_epoch=0)"
      ],
      "execution_count": null,
      "outputs": [
        {
          "output_type": "stream",
          "text": [
            "Epoch 1/10\n",
            "  2/422 [..............................] - ETA: 1:14 - loss: 2.2874 - accuracy: 0.1562WARNING:tensorflow:Callbacks method `on_train_batch_end` is slow compared to the batch time (batch time: 0.1213s vs `on_train_batch_end` time: 0.2249s). Check your callbacks.\n",
            "422/422 [==============================] - 152s 359ms/step - loss: 0.4878 - accuracy: 0.8205 - val_loss: 0.3078 - val_accuracy: 0.8867\n",
            "Epoch 2/10\n",
            "422/422 [==============================] - 149s 353ms/step - loss: 0.2908 - accuracy: 0.8923 - val_loss: 0.2406 - val_accuracy: 0.9125\n",
            "Epoch 3/10\n",
            "422/422 [==============================] - 149s 353ms/step - loss: 0.2364 - accuracy: 0.9121 - val_loss: 0.2388 - val_accuracy: 0.9142\n",
            "Epoch 4/10\n",
            "422/422 [==============================] - 148s 351ms/step - loss: 0.1935 - accuracy: 0.9275 - val_loss: 0.2208 - val_accuracy: 0.9187\n",
            "Epoch 5/10\n",
            "422/422 [==============================] - 148s 351ms/step - loss: 0.1582 - accuracy: 0.9421 - val_loss: 0.2411 - val_accuracy: 0.9137\n",
            "Epoch 6/10\n",
            "422/422 [==============================] - 149s 352ms/step - loss: 0.1271 - accuracy: 0.9522 - val_loss: 0.2462 - val_accuracy: 0.9168\n",
            "Epoch 7/10\n",
            "422/422 [==============================] - 148s 351ms/step - loss: 0.1014 - accuracy: 0.9623 - val_loss: 0.2845 - val_accuracy: 0.9160\n",
            "Epoch 8/10\n",
            "422/422 [==============================] - 147s 349ms/step - loss: 0.0774 - accuracy: 0.9719 - val_loss: 0.2851 - val_accuracy: 0.9205\n",
            "Epoch 9/10\n",
            "422/422 [==============================] - 148s 350ms/step - loss: 0.0631 - accuracy: 0.9771 - val_loss: 0.2855 - val_accuracy: 0.9227\n",
            "Epoch 10/10\n",
            "422/422 [==============================] - 148s 350ms/step - loss: 0.0488 - accuracy: 0.9825 - val_loss: 0.3114 - val_accuracy: 0.9193\n"
          ],
          "name": "stdout"
        }
      ]
    },
    {
      "cell_type": "code",
      "metadata": {
        "id": "iSEkYgBRrI6t",
        "colab_type": "code",
        "colab": {
          "base_uri": "https://localhost:8080/",
          "height": 87
        },
        "outputId": "8d91b99b-df92-4a44-81c0-2e73c75c3a3b"
      },
      "source": [
        "prediction128 = model.predict_classes(x_test_data)"
      ],
      "execution_count": null,
      "outputs": [
        {
          "output_type": "stream",
          "text": [
            "WARNING:tensorflow:From <ipython-input-10-6ae3446ed2af>:1: Sequential.predict_classes (from tensorflow.python.keras.engine.sequential) is deprecated and will be removed after 2021-01-01.\n",
            "Instructions for updating:\n",
            "Please use instead:* `np.argmax(model.predict(x), axis=-1)`,   if your model does multi-class classification   (e.g. if it uses a `softmax` last-layer activation).* `(model.predict(x) > 0.5).astype(\"int32\")`,   if your model does binary classification   (e.g. if it uses a `sigmoid` last-layer activation).\n"
          ],
          "name": "stdout"
        }
      ]
    },
    {
      "cell_type": "code",
      "metadata": {
        "id": "7oK6Ax5yrQ4O",
        "colab_type": "code",
        "colab": {}
      },
      "source": [
        "A2 = pd.DataFrame(data=prediction128 ,columns=[\"label\"])"
      ],
      "execution_count": null,
      "outputs": []
    },
    {
      "cell_type": "code",
      "metadata": {
        "id": "yfJhd3eMrWgN",
        "colab_type": "code",
        "colab": {}
      },
      "source": [
        "DT = pd.merge(sub , A2, on=None, left_index= True,\n",
        "    right_index=True)"
      ],
      "execution_count": null,
      "outputs": []
    },
    {
      "cell_type": "code",
      "metadata": {
        "id": "bQynFR4FrwYA",
        "colab_type": "code",
        "colab": {}
      },
      "source": [
        "DT.to_csv('C128.csv',index = False)"
      ],
      "execution_count": null,
      "outputs": []
    },
    {
      "cell_type": "code",
      "metadata": {
        "id": "Nn86n61sr5af",
        "colab_type": "code",
        "colab": {}
      },
      "source": [
        "!cp C128.csv \"drive/My Drive/\""
      ],
      "execution_count": null,
      "outputs": []
    },
    {
      "cell_type": "markdown",
      "metadata": {
        "id": "fbxFJslEYF6l",
        "colab_type": "text"
      },
      "source": [
        "###### LITTLE OVERFITIING"
      ]
    }
  ]
}